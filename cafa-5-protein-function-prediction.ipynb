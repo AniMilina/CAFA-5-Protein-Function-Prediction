{
 "cells": [
  {
   "cell_type": "markdown",
   "id": "e2a5e255",
   "metadata": {
    "papermill": {
     "duration": 0.020888,
     "end_time": "2023-12-15T07:54:21.604158",
     "exception": false,
     "start_time": "2023-12-15T07:54:21.583270",
     "status": "completed"
    },
    "tags": []
   },
   "source": [
    "![Cover](https://github.com/AniMilina/CAFA-5-Protein-Function-Prediction/raw/main/CAFA%205%20Protein%20Function%20Prediction.jpg)\n"
   ]
  },
  {
   "cell_type": "markdown",
   "id": "18060a9d",
   "metadata": {
    "papermill": {
     "duration": 0.020751,
     "end_time": "2023-12-15T07:54:21.644610",
     "exception": false,
     "start_time": "2023-12-15T07:54:21.623859",
     "status": "completed"
    },
    "tags": []
   },
   "source": [
    "**From the author:** Hello everyone! My name is Milina, medicine and everything connected with it is my favorite topic of research. I’ll be honest, I didn’t see the result of the model that would suit me. But it was important for me to see that the model was stable, and that the model’s settings could be adjusted to a good result over time.\n",
    "\n",
    "I created a couple of additional features that expanded the range of research. Proteins in organisms is a very, very broad topic that requires maximum immersion. But I will be glad if my work is useful in your research and discoveries.\n",
    "\n",
    "I want to say a big thank you to: https://www.kaggle.com/gusthema https://www.kaggle.com/elliot2robot and https://www.kaggle.com/sergeifironov Without you, the submission file would have completely tortured me\n",
    "\n",
    "I wish you all good luck and new discoveries!"
   ]
  },
  {
   "cell_type": "markdown",
   "id": "e9f926e1",
   "metadata": {
    "papermill": {
     "duration": 0.019813,
     "end_time": "2023-12-15T07:54:21.684490",
     "exception": false,
     "start_time": "2023-12-15T07:54:21.664677",
     "status": "completed"
    },
    "tags": []
   },
   "source": [
    "## Project description"
   ]
  },
  {
   "cell_type": "markdown",
   "id": "459f3108",
   "metadata": {
    "papermill": {
     "duration": 0.022943,
     "end_time": "2023-12-15T07:54:21.726974",
     "exception": false,
     "start_time": "2023-12-15T07:54:21.704031",
     "status": "completed"
    },
    "tags": []
   },
   "source": [
    "`Purpose of the competition:`  \n",
    "\n",
    ">The goal of this competition is to create a model to predict the functions of a set of proteins. The model will be trained on amino acid sequences of proteins and other available data  \n",
    "The work aims to help researchers better understand the functions of proteins, which is important for uncovering how cells, tissues and organs work. It could also help develop new drugs and therapies for various diseases  \n",
    "\n",
    "`Context:`  \n",
    "\n",
    ">Proteins play an important role in a variety of activities in tissues, organs and the body as a whole, and also influence the structure and function of cells  \n",
    "They are large molecules consisting of 20 types of amino acids. There are tens of thousands of different proteins in the human body, and each protein consists of tens or hundreds of amino acids linked in series  \n",
    "This amino acid sequence determines the 3D structure and conformational dynamics of the protein, which in turn determines its biological function. Due to genome sequencing projects, we have enormous amounts of genetic sequence data from thousands of species, which provides information about the amino acid sequence of the proteins that are encoded by these genes  \n",
    "Precise assignment of biological function to a protein is key to understanding life at the molecular level. However, the task of assigning a function to a specific protein is complicated by the multiple functions of many proteins, as well as their ability to interact with multiple partners  \n",
    "More knowledge about the functions assigned to proteins could lead to the development of treatments for diseases and improvements in human and animal health in areas such as medicine and agriculture  "
   ]
  },
  {
   "cell_type": "markdown",
   "id": "7e8c4dd9",
   "metadata": {
    "papermill": {
     "duration": 0.02626,
     "end_time": "2023-12-15T07:54:21.781343",
     "exception": false,
     "start_time": "2023-12-15T07:54:21.755083",
     "status": "completed"
    },
    "tags": []
   },
   "source": [
    "`Data files:`  \n",
    "\n",
    "**go-basic.obo:** GO ontology in OBO format  \n",
    "**train_sequences.fasta:** Protein sequences for the training dataset  \n",
    "**train_terms.tsv:** GO annotations for proteins from the training set  \n",
    "**train_taxonomy.tsv:** Taxa for proteins from the training set  \n",
    "**IA.txt:** Weights for each term used to calculate weighted precision and recall  \n",
    "**testsuperset.fasta:** Protein sequences for predictions  \n",
    "**testsuperset-taxon-list.tsv:** Taxa for proteins in the test superset  "
   ]
  },
  {
   "cell_type": "markdown",
   "id": "47a1d483",
   "metadata": {
    "papermill": {
     "duration": 0.021457,
     "end_time": "2023-12-15T07:54:21.826141",
     "exception": false,
     "start_time": "2023-12-15T07:54:21.804684",
     "status": "completed"
    },
    "tags": []
   },
   "source": [
    "## Installing and importing libraries"
   ]
  },
  {
   "cell_type": "code",
   "execution_count": 1,
   "id": "7efec1d9",
   "metadata": {
    "execution": {
     "iopub.execute_input": "2023-12-15T07:54:21.916094Z",
     "iopub.status.busy": "2023-12-15T07:54:21.915675Z",
     "iopub.status.idle": "2023-12-15T07:54:35.106094Z",
     "shell.execute_reply": "2023-12-15T07:54:35.105063Z"
    },
    "papermill": {
     "duration": 13.215785,
     "end_time": "2023-12-15T07:54:35.108641",
     "exception": false,
     "start_time": "2023-12-15T07:54:21.892856",
     "status": "completed"
    },
    "tags": []
   },
   "outputs": [
    {
     "name": "stdout",
     "output_type": "stream",
     "text": [
      "Collecting obonet\r\n",
      "  Downloading obonet-1.0.0-py3-none-any.whl (9.2 kB)\r\n",
      "Requirement already satisfied: pandas in /opt/conda/lib/python3.10/site-packages (2.0.3)\r\n",
      "Requirement already satisfied: networkx in /opt/conda/lib/python3.10/site-packages (from obonet) (3.1)\r\n",
      "Requirement already satisfied: python-dateutil>=2.8.2 in /opt/conda/lib/python3.10/site-packages (from pandas) (2.8.2)\r\n",
      "Requirement already satisfied: pytz>=2020.1 in /opt/conda/lib/python3.10/site-packages (from pandas) (2023.3)\r\n",
      "Requirement already satisfied: tzdata>=2022.1 in /opt/conda/lib/python3.10/site-packages (from pandas) (2023.3)\r\n",
      "Requirement already satisfied: numpy>=1.21.0 in /opt/conda/lib/python3.10/site-packages (from pandas) (1.24.3)\r\n",
      "Requirement already satisfied: six>=1.5 in /opt/conda/lib/python3.10/site-packages (from python-dateutil>=2.8.2->pandas) (1.16.0)\r\n",
      "Installing collected packages: obonet\r\n",
      "Successfully installed obonet-1.0.0\r\n"
     ]
    }
   ],
   "source": [
    "!pip install obonet pandas\n",
    "# # !pip install biopython"
   ]
  },
  {
   "cell_type": "code",
   "execution_count": 2,
   "id": "62da833a",
   "metadata": {
    "execution": {
     "iopub.execute_input": "2023-12-15T07:54:35.153354Z",
     "iopub.status.busy": "2023-12-15T07:54:35.152999Z",
     "iopub.status.idle": "2023-12-15T07:54:49.149223Z",
     "shell.execute_reply": "2023-12-15T07:54:49.148375Z"
    },
    "papermill": {
     "duration": 14.021399,
     "end_time": "2023-12-15T07:54:49.151597",
     "exception": false,
     "start_time": "2023-12-15T07:54:35.130198",
     "status": "completed"
    },
    "tags": []
   },
   "outputs": [
    {
     "name": "stderr",
     "output_type": "stream",
     "text": [
      "/opt/conda/lib/python3.10/site-packages/scipy/__init__.py:146: UserWarning: A NumPy version >=1.16.5 and <1.23.0 is required for this version of SciPy (detected version 1.24.3\n",
      "  warnings.warn(f\"A NumPy version >={np_minversion} and <{np_maxversion}\"\n"
     ]
    }
   ],
   "source": [
    "import obonet\n",
    "import pandas as pd\n",
    "\n",
    "import warnings\n",
    "import time\n",
    "\n",
    "from Bio import SeqIO\n",
    "from Bio.SeqUtils import ProtParam\n",
    "\n",
    "import networkx as nx\n",
    "import matplotlib.pyplot as plt\n",
    "import seaborn as sns\n",
    "\n",
    "from sklearn.model_selection import train_test_split\n",
    "from sklearn.preprocessing import MultiLabelBinarizer\n",
    "from sklearn.feature_extraction.text import TfidfVectorizer\n",
    "from sklearn.multiclass import OneVsRestClassifier\n",
    "from sklearn.svm import SVC\n",
    "from sklearn.pipeline import make_pipeline\n",
    "from sklearn.metrics import accuracy_score, f1_score, precision_score, recall_score,classification_report\n",
    "\n",
    "import tensorflow as tf\n",
    "from keras import backend as K\n",
    "from tensorflow.keras.preprocessing.text import Tokenizer\n",
    "from tensorflow.keras.preprocessing.sequence import pad_sequences\n",
    "from tensorflow.keras.models import Sequential\n",
    "from keras.utils import Sequence\n",
    "from keras.layers import Input, Embedding, LSTM, Dense, concatenate,Dropout\n",
    "from keras.models import Model,load_model"
   ]
  },
  {
   "cell_type": "markdown",
   "id": "491138cb",
   "metadata": {
    "papermill": {
     "duration": 0.020997,
     "end_time": "2023-12-15T07:54:49.194115",
     "exception": false,
     "start_time": "2023-12-15T07:54:49.173118",
     "status": "completed"
    },
    "tags": []
   },
   "source": [
    "## Settings"
   ]
  },
  {
   "cell_type": "code",
   "execution_count": 3,
   "id": "344e633c",
   "metadata": {
    "execution": {
     "iopub.execute_input": "2023-12-15T07:54:49.238675Z",
     "iopub.status.busy": "2023-12-15T07:54:49.237956Z",
     "iopub.status.idle": "2023-12-15T07:54:49.242697Z",
     "shell.execute_reply": "2023-12-15T07:54:49.241776Z"
    },
    "papermill": {
     "duration": 0.02951,
     "end_time": "2023-12-15T07:54:49.244638",
     "exception": false,
     "start_time": "2023-12-15T07:54:49.215128",
     "status": "completed"
    },
    "tags": []
   },
   "outputs": [],
   "source": [
    "# Disable warnings\n",
    "\n",
    "warnings.filterwarnings('ignore')"
   ]
  },
  {
   "cell_type": "code",
   "execution_count": 4,
   "id": "3ec7d2fd",
   "metadata": {
    "execution": {
     "iopub.execute_input": "2023-12-15T07:54:49.289136Z",
     "iopub.status.busy": "2023-12-15T07:54:49.288325Z",
     "iopub.status.idle": "2023-12-15T07:54:49.292923Z",
     "shell.execute_reply": "2023-12-15T07:54:49.291989Z"
    },
    "papermill": {
     "duration": 0.028817,
     "end_time": "2023-12-15T07:54:49.294998",
     "exception": false,
     "start_time": "2023-12-15T07:54:49.266181",
     "status": "completed"
    },
    "tags": []
   },
   "outputs": [],
   "source": [
    "class f:    \n",
    "    BOLD = \"\\033[1m\"     # Bold text\n",
    "    ITALIC = \"\\033[3m\"   # Italic text\n",
    "    END = \"\\033[0m\"      # Reset style"
   ]
  },
  {
   "cell_type": "markdown",
   "id": "c82dc747",
   "metadata": {
    "papermill": {
     "duration": 0.021093,
     "end_time": "2023-12-15T07:54:49.337391",
     "exception": false,
     "start_time": "2023-12-15T07:54:49.316298",
     "status": "completed"
    },
    "tags": []
   },
   "source": [
    "## Functions"
   ]
  },
  {
   "cell_type": "code",
   "execution_count": 5,
   "id": "1334f17a",
   "metadata": {
    "execution": {
     "iopub.execute_input": "2023-12-15T07:54:49.381581Z",
     "iopub.status.busy": "2023-12-15T07:54:49.380747Z",
     "iopub.status.idle": "2023-12-15T07:54:49.386779Z",
     "shell.execute_reply": "2023-12-15T07:54:49.385829Z"
    },
    "papermill": {
     "duration": 0.030726,
     "end_time": "2023-12-15T07:54:49.389080",
     "exception": false,
     "start_time": "2023-12-15T07:54:49.358354",
     "status": "completed"
    },
    "tags": []
   },
   "outputs": [],
   "source": [
    "def explore_data(dataframes):\n",
    "    for name, df in dataframes.items():\n",
    "        print(f\"\\n{name} Data:\")\n",
    "        print(f\"Shape:\\n{df.shape}\")\n",
    "        print(f\"\\nInfo:\")\n",
    "        df.info()\n",
    "        print(f\"\\nDuplicates:\")\n",
    "        duplicates = df[df.duplicated()]\n",
    "        print(duplicates)\n",
    "        print(f\"\\nMissing Values:\")\n",
    "        missing_values = df.isnull().sum()\n",
    "        print(missing_values[missing_values > 0])"
   ]
  },
  {
   "cell_type": "code",
   "execution_count": 6,
   "id": "06d05394",
   "metadata": {
    "execution": {
     "iopub.execute_input": "2023-12-15T07:54:49.432564Z",
     "iopub.status.busy": "2023-12-15T07:54:49.432139Z",
     "iopub.status.idle": "2023-12-15T07:54:49.439809Z",
     "shell.execute_reply": "2023-12-15T07:54:49.439017Z"
    },
    "papermill": {
     "duration": 0.031538,
     "end_time": "2023-12-15T07:54:49.441780",
     "exception": false,
     "start_time": "2023-12-15T07:54:49.410242",
     "status": "completed"
    },
    "tags": []
   },
   "outputs": [],
   "source": [
    "def visualize_distribution(data, x, title, xlabel, ylabel, facecolor='lightgray', gridcolor='gray', colors=None, rotation=0):\n",
    "    \"\"\"\n",
    "    Visualization of data distribution.\n",
    "\n",
    "    Options:\n",
    "    - data: DataFrame, data for visualization.\n",
    "    - x: str, column name for the X axis.\n",
    "    - title: str, title of the graph.\n",
    "    - xlabel: str, X-axis label.\n",
    "    - ylabel: str, Y-axis label.\n",
    "    - facecolor: str, background color of the chart.\n",
    "    - gridcolor: str, color of the chart grid.\n",
    "    - colors: list, additional colors for the chart.\n",
    "    - rotation: int, the angle of rotation of the labels.\n",
    "\n",
    "    Returns:\n",
    "    None\n",
    "    \"\"\"\n",
    "    plt.figure(figsize=(10, 6))\n",
    "    sns.set_palette(colors) if colors else None\n",
    "    sns.countplot(x=x, data=data)\n",
    "    sns.set(style=\"whitegrid\")\n",
    "    plt.title(title)\n",
    "    plt.xlabel(xlabel)\n",
    "    plt.ylabel(ylabel)\n",
    "    ax = plt.gca()\n",
    "    ax.set_facecolor(facecolor)\n",
    "    ax.grid(color=gridcolor)\n",
    "    plt.xticks(rotation=rotation)\n",
    "\n",
    "    plt.show()\n"
   ]
  },
  {
   "cell_type": "markdown",
   "id": "82b4900e",
   "metadata": {
    "papermill": {
     "duration": 0.020765,
     "end_time": "2023-12-15T07:54:49.483766",
     "exception": false,
     "start_time": "2023-12-15T07:54:49.463001",
     "status": "completed"
    },
    "tags": []
   },
   "source": [
    "## Read data"
   ]
  },
  {
   "cell_type": "code",
   "execution_count": 7,
   "id": "88db5dde",
   "metadata": {
    "execution": {
     "iopub.execute_input": "2023-12-15T07:54:49.526563Z",
     "iopub.status.busy": "2023-12-15T07:54:49.526182Z",
     "iopub.status.idle": "2023-12-15T07:55:06.868246Z",
     "shell.execute_reply": "2023-12-15T07:55:06.867433Z"
    },
    "papermill": {
     "duration": 17.36636,
     "end_time": "2023-12-15T07:55:06.870618",
     "exception": false,
     "start_time": "2023-12-15T07:54:49.504258",
     "status": "completed"
    },
    "tags": []
   },
   "outputs": [],
   "source": [
    "obo_path = '/kaggle/input/cafa-5-protein-function-prediction/Train/go-basic.obo'\n",
    "graph = obonet.read_obo(obo_path)"
   ]
  },
  {
   "cell_type": "code",
   "execution_count": 8,
   "id": "f9e7698d",
   "metadata": {
    "_kg_hide-input": true,
    "execution": {
     "iopub.execute_input": "2023-12-15T07:55:06.914254Z",
     "iopub.status.busy": "2023-12-15T07:55:06.913914Z",
     "iopub.status.idle": "2023-12-15T07:55:06.917901Z",
     "shell.execute_reply": "2023-12-15T07:55:06.917088Z"
    },
    "papermill": {
     "duration": 0.028008,
     "end_time": "2023-12-15T07:55:06.919898",
     "exception": false,
     "start_time": "2023-12-15T07:55:06.891890",
     "status": "completed"
    },
    "tags": []
   },
   "outputs": [],
   "source": [
    "# graph"
   ]
  },
  {
   "cell_type": "code",
   "execution_count": 9,
   "id": "15398e15",
   "metadata": {
    "execution": {
     "iopub.execute_input": "2023-12-15T07:55:06.964718Z",
     "iopub.status.busy": "2023-12-15T07:55:06.964322Z",
     "iopub.status.idle": "2023-12-15T07:55:06.968969Z",
     "shell.execute_reply": "2023-12-15T07:55:06.968187Z"
    },
    "papermill": {
     "duration": 0.029747,
     "end_time": "2023-12-15T07:55:06.970808",
     "exception": false,
     "start_time": "2023-12-15T07:55:06.941061",
     "status": "completed"
    },
    "tags": []
   },
   "outputs": [],
   "source": [
    "fasta_path = \"/kaggle/input/cafa-5-protein-function-prediction/Train/train_sequences.fasta\"\n",
    "terms_path = \"/kaggle/input/cafa-5-protein-function-prediction/Train/train_terms.tsv\"\n",
    "taxonomy_path = \"/kaggle/input/cafa-5-protein-function-prediction/Train/train_taxonomy.tsv\"\n",
    "ia_path = \"/kaggle/input/cafa-5-protein-function-prediction/IA.txt\""
   ]
  },
  {
   "cell_type": "code",
   "execution_count": 10,
   "id": "ae178ba2",
   "metadata": {
    "execution": {
     "iopub.execute_input": "2023-12-15T07:55:07.013240Z",
     "iopub.status.busy": "2023-12-15T07:55:07.012903Z",
     "iopub.status.idle": "2023-12-15T07:55:13.074639Z",
     "shell.execute_reply": "2023-12-15T07:55:13.073850Z"
    },
    "papermill": {
     "duration": 6.085658,
     "end_time": "2023-12-15T07:55:13.076952",
     "exception": false,
     "start_time": "2023-12-15T07:55:06.991294",
     "status": "completed"
    },
    "tags": []
   },
   "outputs": [],
   "source": [
    "fasta_data = pd.DataFrame([(record.id, str(record.seq)) for record in SeqIO.parse(fasta_path, \"fasta\")], columns=['Protein_ID', 'Sequence'])\n",
    "terms_data = pd.read_csv(terms_path, sep='\\t', header=None, names=['Protein_ID', 'GO_Term_ID', 'Ontology'])\n",
    "taxonomy_data = pd.read_csv(taxonomy_path, sep='\\t', header=None, names=['Protein_ID', 'Taxon_ID'])\n",
    "ia_data = pd.read_csv(ia_path, sep='\\t', header=None, names=['GO_Term_ID', 'Weight'])"
   ]
  },
  {
   "cell_type": "code",
   "execution_count": 11,
   "id": "dcd9362f",
   "metadata": {
    "execution": {
     "iopub.execute_input": "2023-12-15T07:55:13.121053Z",
     "iopub.status.busy": "2023-12-15T07:55:13.120736Z",
     "iopub.status.idle": "2023-12-15T07:55:13.154116Z",
     "shell.execute_reply": "2023-12-15T07:55:13.153200Z"
    },
    "papermill": {
     "duration": 0.057855,
     "end_time": "2023-12-15T07:55:13.156007",
     "exception": false,
     "start_time": "2023-12-15T07:55:13.098152",
     "status": "completed"
    },
    "tags": []
   },
   "outputs": [
    {
     "name": "stdout",
     "output_type": "stream",
     "text": [
      "Fasta Data:\n"
     ]
    },
    {
     "data": {
      "text/html": [
       "<div>\n",
       "<style scoped>\n",
       "    .dataframe tbody tr th:only-of-type {\n",
       "        vertical-align: middle;\n",
       "    }\n",
       "\n",
       "    .dataframe tbody tr th {\n",
       "        vertical-align: top;\n",
       "    }\n",
       "\n",
       "    .dataframe thead th {\n",
       "        text-align: right;\n",
       "    }\n",
       "</style>\n",
       "<table border=\"1\" class=\"dataframe\">\n",
       "  <thead>\n",
       "    <tr style=\"text-align: right;\">\n",
       "      <th></th>\n",
       "      <th>Protein_ID</th>\n",
       "      <th>Sequence</th>\n",
       "    </tr>\n",
       "  </thead>\n",
       "  <tbody>\n",
       "    <tr>\n",
       "      <th>0</th>\n",
       "      <td>P20536</td>\n",
       "      <td>MNSVTVSHAPYTITYHDDWEPVMSQLVEFYNEVASWLLRDETSPIP...</td>\n",
       "    </tr>\n",
       "    <tr>\n",
       "      <th>1</th>\n",
       "      <td>O73864</td>\n",
       "      <td>MTEYRNFLLLFITSLSVIYPCTGISWLGLTINGSSVGWNQTHHCKL...</td>\n",
       "    </tr>\n",
       "    <tr>\n",
       "      <th>2</th>\n",
       "      <td>O95231</td>\n",
       "      <td>MRLSSSPPRGPQQLSSFGSVDWLSQSSCSGPTHTPRPADFSLGSLP...</td>\n",
       "    </tr>\n",
       "    <tr>\n",
       "      <th>3</th>\n",
       "      <td>A0A0B4J1F4</td>\n",
       "      <td>MGGEAGADGPRGRVKSLGLVFEDESKGCYSSGETVAGHVLLEAAEP...</td>\n",
       "    </tr>\n",
       "    <tr>\n",
       "      <th>4</th>\n",
       "      <td>P54366</td>\n",
       "      <td>MVETNSPPAGYTLKRSPSDLGEQQQPPRQISRSPGNTAAYHLTTAM...</td>\n",
       "    </tr>\n",
       "  </tbody>\n",
       "</table>\n",
       "</div>"
      ],
      "text/plain": [
       "   Protein_ID                                           Sequence\n",
       "0      P20536  MNSVTVSHAPYTITYHDDWEPVMSQLVEFYNEVASWLLRDETSPIP...\n",
       "1      O73864  MTEYRNFLLLFITSLSVIYPCTGISWLGLTINGSSVGWNQTHHCKL...\n",
       "2      O95231  MRLSSSPPRGPQQLSSFGSVDWLSQSSCSGPTHTPRPADFSLGSLP...\n",
       "3  A0A0B4J1F4  MGGEAGADGPRGRVKSLGLVFEDESKGCYSSGETVAGHVLLEAAEP...\n",
       "4      P54366  MVETNSPPAGYTLKRSPSDLGEQQQPPRQISRSPGNTAAYHLTTAM..."
      ]
     },
     "metadata": {},
     "output_type": "display_data"
    },
    {
     "name": "stdout",
     "output_type": "stream",
     "text": [
      "\n",
      "Terms Data:\n"
     ]
    },
    {
     "data": {
      "text/html": [
       "<div>\n",
       "<style scoped>\n",
       "    .dataframe tbody tr th:only-of-type {\n",
       "        vertical-align: middle;\n",
       "    }\n",
       "\n",
       "    .dataframe tbody tr th {\n",
       "        vertical-align: top;\n",
       "    }\n",
       "\n",
       "    .dataframe thead th {\n",
       "        text-align: right;\n",
       "    }\n",
       "</style>\n",
       "<table border=\"1\" class=\"dataframe\">\n",
       "  <thead>\n",
       "    <tr style=\"text-align: right;\">\n",
       "      <th></th>\n",
       "      <th>Protein_ID</th>\n",
       "      <th>GO_Term_ID</th>\n",
       "      <th>Ontology</th>\n",
       "    </tr>\n",
       "  </thead>\n",
       "  <tbody>\n",
       "    <tr>\n",
       "      <th>0</th>\n",
       "      <td>EntryID</td>\n",
       "      <td>term</td>\n",
       "      <td>aspect</td>\n",
       "    </tr>\n",
       "    <tr>\n",
       "      <th>1</th>\n",
       "      <td>A0A009IHW8</td>\n",
       "      <td>GO:0008152</td>\n",
       "      <td>BPO</td>\n",
       "    </tr>\n",
       "    <tr>\n",
       "      <th>2</th>\n",
       "      <td>A0A009IHW8</td>\n",
       "      <td>GO:0034655</td>\n",
       "      <td>BPO</td>\n",
       "    </tr>\n",
       "    <tr>\n",
       "      <th>3</th>\n",
       "      <td>A0A009IHW8</td>\n",
       "      <td>GO:0072523</td>\n",
       "      <td>BPO</td>\n",
       "    </tr>\n",
       "    <tr>\n",
       "      <th>4</th>\n",
       "      <td>A0A009IHW8</td>\n",
       "      <td>GO:0044270</td>\n",
       "      <td>BPO</td>\n",
       "    </tr>\n",
       "  </tbody>\n",
       "</table>\n",
       "</div>"
      ],
      "text/plain": [
       "   Protein_ID  GO_Term_ID Ontology\n",
       "0     EntryID        term   aspect\n",
       "1  A0A009IHW8  GO:0008152      BPO\n",
       "2  A0A009IHW8  GO:0034655      BPO\n",
       "3  A0A009IHW8  GO:0072523      BPO\n",
       "4  A0A009IHW8  GO:0044270      BPO"
      ]
     },
     "metadata": {},
     "output_type": "display_data"
    },
    {
     "name": "stdout",
     "output_type": "stream",
     "text": [
      "\n",
      "Taxonomy Data:\n"
     ]
    },
    {
     "data": {
      "text/html": [
       "<div>\n",
       "<style scoped>\n",
       "    .dataframe tbody tr th:only-of-type {\n",
       "        vertical-align: middle;\n",
       "    }\n",
       "\n",
       "    .dataframe tbody tr th {\n",
       "        vertical-align: top;\n",
       "    }\n",
       "\n",
       "    .dataframe thead th {\n",
       "        text-align: right;\n",
       "    }\n",
       "</style>\n",
       "<table border=\"1\" class=\"dataframe\">\n",
       "  <thead>\n",
       "    <tr style=\"text-align: right;\">\n",
       "      <th></th>\n",
       "      <th>Protein_ID</th>\n",
       "      <th>Taxon_ID</th>\n",
       "    </tr>\n",
       "  </thead>\n",
       "  <tbody>\n",
       "    <tr>\n",
       "      <th>0</th>\n",
       "      <td>EntryID</td>\n",
       "      <td>taxonomyID</td>\n",
       "    </tr>\n",
       "    <tr>\n",
       "      <th>1</th>\n",
       "      <td>Q8IXT2</td>\n",
       "      <td>9606</td>\n",
       "    </tr>\n",
       "    <tr>\n",
       "      <th>2</th>\n",
       "      <td>Q04418</td>\n",
       "      <td>559292</td>\n",
       "    </tr>\n",
       "    <tr>\n",
       "      <th>3</th>\n",
       "      <td>A8DYA3</td>\n",
       "      <td>7227</td>\n",
       "    </tr>\n",
       "    <tr>\n",
       "      <th>4</th>\n",
       "      <td>Q9UUI3</td>\n",
       "      <td>284812</td>\n",
       "    </tr>\n",
       "  </tbody>\n",
       "</table>\n",
       "</div>"
      ],
      "text/plain": [
       "  Protein_ID    Taxon_ID\n",
       "0    EntryID  taxonomyID\n",
       "1     Q8IXT2        9606\n",
       "2     Q04418      559292\n",
       "3     A8DYA3        7227\n",
       "4     Q9UUI3      284812"
      ]
     },
     "metadata": {},
     "output_type": "display_data"
    },
    {
     "name": "stdout",
     "output_type": "stream",
     "text": [
      "\n",
      "IA Data:\n"
     ]
    },
    {
     "data": {
      "text/html": [
       "<div>\n",
       "<style scoped>\n",
       "    .dataframe tbody tr th:only-of-type {\n",
       "        vertical-align: middle;\n",
       "    }\n",
       "\n",
       "    .dataframe tbody tr th {\n",
       "        vertical-align: top;\n",
       "    }\n",
       "\n",
       "    .dataframe thead th {\n",
       "        text-align: right;\n",
       "    }\n",
       "</style>\n",
       "<table border=\"1\" class=\"dataframe\">\n",
       "  <thead>\n",
       "    <tr style=\"text-align: right;\">\n",
       "      <th></th>\n",
       "      <th>GO_Term_ID</th>\n",
       "      <th>Weight</th>\n",
       "    </tr>\n",
       "  </thead>\n",
       "  <tbody>\n",
       "    <tr>\n",
       "      <th>0</th>\n",
       "      <td>GO:0000001</td>\n",
       "      <td>0.000000</td>\n",
       "    </tr>\n",
       "    <tr>\n",
       "      <th>1</th>\n",
       "      <td>GO:0000002</td>\n",
       "      <td>3.103836</td>\n",
       "    </tr>\n",
       "    <tr>\n",
       "      <th>2</th>\n",
       "      <td>GO:0000003</td>\n",
       "      <td>3.439404</td>\n",
       "    </tr>\n",
       "    <tr>\n",
       "      <th>3</th>\n",
       "      <td>GO:0000011</td>\n",
       "      <td>0.056584</td>\n",
       "    </tr>\n",
       "    <tr>\n",
       "      <th>4</th>\n",
       "      <td>GO:0000012</td>\n",
       "      <td>6.400377</td>\n",
       "    </tr>\n",
       "  </tbody>\n",
       "</table>\n",
       "</div>"
      ],
      "text/plain": [
       "   GO_Term_ID    Weight\n",
       "0  GO:0000001  0.000000\n",
       "1  GO:0000002  3.103836\n",
       "2  GO:0000003  3.439404\n",
       "3  GO:0000011  0.056584\n",
       "4  GO:0000012  6.400377"
      ]
     },
     "metadata": {},
     "output_type": "display_data"
    }
   ],
   "source": [
    "print(\"Fasta Data:\")\n",
    "display(fasta_data.head())\n",
    "\n",
    "print(\"\\nTerms Data:\")\n",
    "display(terms_data.head())\n",
    "\n",
    "print(\"\\nTaxonomy Data:\")\n",
    "display(taxonomy_data.head())\n",
    "\n",
    "print(\"\\nIA Data:\")\n",
    "display(ia_data.head())"
   ]
  },
  {
   "cell_type": "markdown",
   "id": "f1ebfe5f",
   "metadata": {
    "papermill": {
     "duration": 0.021071,
     "end_time": "2023-12-15T07:55:13.198761",
     "exception": false,
     "start_time": "2023-12-15T07:55:13.177690",
     "status": "completed"
    },
    "tags": []
   },
   "source": [
    "## Let's check the received data"
   ]
  },
  {
   "cell_type": "code",
   "execution_count": 12,
   "id": "c3386a19",
   "metadata": {
    "execution": {
     "iopub.execute_input": "2023-12-15T07:55:13.242612Z",
     "iopub.status.busy": "2023-12-15T07:55:13.242292Z",
     "iopub.status.idle": "2023-12-15T07:55:13.246517Z",
     "shell.execute_reply": "2023-12-15T07:55:13.245673Z"
    },
    "papermill": {
     "duration": 0.028521,
     "end_time": "2023-12-15T07:55:13.248517",
     "exception": false,
     "start_time": "2023-12-15T07:55:13.219996",
     "status": "completed"
    },
    "tags": []
   },
   "outputs": [],
   "source": [
    "dataframes = {\n",
    "    'Fasta': fasta_data,\n",
    "    'Terms': terms_data,\n",
    "    'Taxonomy': taxonomy_data,\n",
    "    'IA': ia_data\n",
    "}"
   ]
  },
  {
   "cell_type": "code",
   "execution_count": 13,
   "id": "31443383",
   "metadata": {
    "execution": {
     "iopub.execute_input": "2023-12-15T07:55:13.292206Z",
     "iopub.status.busy": "2023-12-15T07:55:13.291939Z",
     "iopub.status.idle": "2023-12-15T07:55:17.392377Z",
     "shell.execute_reply": "2023-12-15T07:55:17.391203Z"
    },
    "papermill": {
     "duration": 4.124988,
     "end_time": "2023-12-15T07:55:17.394614",
     "exception": false,
     "start_time": "2023-12-15T07:55:13.269626",
     "status": "completed"
    },
    "tags": []
   },
   "outputs": [
    {
     "name": "stdout",
     "output_type": "stream",
     "text": [
      "\n",
      "Fasta Data:\n",
      "Shape:\n",
      "(142246, 2)\n",
      "\n",
      "Info:\n",
      "<class 'pandas.core.frame.DataFrame'>\n",
      "RangeIndex: 142246 entries, 0 to 142245\n",
      "Data columns (total 2 columns):\n",
      " #   Column      Non-Null Count   Dtype \n",
      "---  ------      --------------   ----- \n",
      " 0   Protein_ID  142246 non-null  object\n",
      " 1   Sequence    142246 non-null  object\n",
      "dtypes: object(2)\n",
      "memory usage: 2.2+ MB\n",
      "\n",
      "Duplicates:\n",
      "Empty DataFrame\n",
      "Columns: [Protein_ID, Sequence]\n",
      "Index: []\n",
      "\n",
      "Missing Values:\n",
      "Series([], dtype: int64)\n",
      "\n",
      "Terms Data:\n",
      "Shape:\n",
      "(5363864, 3)\n",
      "\n",
      "Info:\n",
      "<class 'pandas.core.frame.DataFrame'>\n",
      "RangeIndex: 5363864 entries, 0 to 5363863\n",
      "Data columns (total 3 columns):\n",
      " #   Column      Dtype \n",
      "---  ------      ----- \n",
      " 0   Protein_ID  object\n",
      " 1   GO_Term_ID  object\n",
      " 2   Ontology    object\n",
      "dtypes: object(3)\n",
      "memory usage: 122.8+ MB\n",
      "\n",
      "Duplicates:\n",
      "Empty DataFrame\n",
      "Columns: [Protein_ID, GO_Term_ID, Ontology]\n",
      "Index: []\n",
      "\n",
      "Missing Values:\n",
      "Series([], dtype: int64)\n",
      "\n",
      "Taxonomy Data:\n",
      "Shape:\n",
      "(142247, 2)\n",
      "\n",
      "Info:\n",
      "<class 'pandas.core.frame.DataFrame'>\n",
      "RangeIndex: 142247 entries, 0 to 142246\n",
      "Data columns (total 2 columns):\n",
      " #   Column      Non-Null Count   Dtype \n",
      "---  ------      --------------   ----- \n",
      " 0   Protein_ID  142247 non-null  object\n",
      " 1   Taxon_ID    142247 non-null  object\n",
      "dtypes: object(2)\n",
      "memory usage: 2.2+ MB\n",
      "\n",
      "Duplicates:\n",
      "Empty DataFrame\n",
      "Columns: [Protein_ID, Taxon_ID]\n",
      "Index: []\n",
      "\n",
      "Missing Values:\n",
      "Series([], dtype: int64)\n",
      "\n",
      "IA Data:\n",
      "Shape:\n",
      "(43248, 2)\n",
      "\n",
      "Info:\n",
      "<class 'pandas.core.frame.DataFrame'>\n",
      "RangeIndex: 43248 entries, 0 to 43247\n",
      "Data columns (total 2 columns):\n",
      " #   Column      Non-Null Count  Dtype  \n",
      "---  ------      --------------  -----  \n",
      " 0   GO_Term_ID  43248 non-null  object \n",
      " 1   Weight      43248 non-null  float64\n",
      "dtypes: float64(1), object(1)\n",
      "memory usage: 675.9+ KB\n",
      "\n",
      "Duplicates:\n",
      "Empty DataFrame\n",
      "Columns: [GO_Term_ID, Weight]\n",
      "Index: []\n",
      "\n",
      "Missing Values:\n",
      "Series([], dtype: int64)\n"
     ]
    }
   ],
   "source": [
    "explore_data(dataframes)"
   ]
  },
  {
   "cell_type": "markdown",
   "id": "bd77eff5",
   "metadata": {
    "papermill": {
     "duration": 0.022354,
     "end_time": "2023-12-15T07:55:17.439517",
     "exception": false,
     "start_time": "2023-12-15T07:55:17.417163",
     "status": "completed"
    },
    "tags": []
   },
   "source": [
    "`Fast Data:`   \n",
    "\n",
    ">Data form: (142246, 2) - 142246 rows and 2 columns  \n",
    "Data types: Protein_ID and Sequence are represented by string data  \n",
    "No duplicates  \n",
    "No missing values  \n",
    "\n",
    "**Conclusions: The Fasta dataset contains protein sequences for 142,246 unique protein IDs with no duplicates or missing values**  \n",
    "\n",
    "`Terms Data:`  \n",
    "\n",
    ">Data form: (5363864, 3) - 5363864 rows and 3 columns  \n",
    "Data types: Protein_ID, GO_Term_ID and Ontology are represented by string data  \n",
    "No duplicates  \n",
    "No missing values  \n",
    "\n",
    "**Conclusions: The Terms dataset contains GO annotations for proteins covering more than 5 million records. No duplicates or missing values**  \n",
    "\n",
    "`Taxonomy Data:`  \n",
    "\n",
    ">Data form: (142247, 2) - 142247 rows and 2 columns  \n",
    "Data types: Protein_ID and Taxon_ID are represented by string data  \n",
    "No duplicates  \n",
    "No missing values  \n",
    "\n",
    "**Conclusions: The Taxonomy dataset contains taxonomy information for 142,247 unique protein identifiers with no duplicates or missing values**  \n",
    "\n",
    "`IA Data:`  \n",
    "\n",
    ">Data form: (43248, 2) - 43248 rows and 2 columns  \n",
    "Data types: GO_Term_ID is represented by string data, and Weight is represented by numeric data  \n",
    "No duplicates  \n",
    "No missing values  \n",
    "\n",
    "**Conclusions: The IA dataset contains information about information richness (weights) for GO terms**  \n",
    " \n",
    "#### General conclusions:  \n",
    "\n",
    "All datasets do not contain duplicates or missing values  \n",
    "The Terms dataset is large and contains GO annotations for proteins, and Fasta contains the corresponding sequences  \n",
    "IA contains weights for GO terms and Taxonomy provides protein taxonomy information  "
   ]
  },
  {
   "cell_type": "markdown",
   "id": "98cac20e",
   "metadata": {
    "papermill": {
     "duration": 0.021912,
     "end_time": "2023-12-15T07:55:17.483424",
     "exception": false,
     "start_time": "2023-12-15T07:55:17.461512",
     "status": "completed"
    },
    "tags": []
   },
   "source": [
    "## Data processing"
   ]
  },
  {
   "cell_type": "code",
   "execution_count": 14,
   "id": "f5024ba3",
   "metadata": {
    "execution": {
     "iopub.execute_input": "2023-12-15T07:55:17.530094Z",
     "iopub.status.busy": "2023-12-15T07:55:17.529390Z",
     "iopub.status.idle": "2023-12-15T07:55:17.677251Z",
     "shell.execute_reply": "2023-12-15T07:55:17.676253Z"
    },
    "papermill": {
     "duration": 0.173512,
     "end_time": "2023-12-15T07:55:17.679538",
     "exception": false,
     "start_time": "2023-12-15T07:55:17.506026",
     "status": "completed"
    },
    "tags": []
   },
   "outputs": [],
   "source": [
    "# Transform protein sequences\n",
    "\n",
    "fasta_data['Sequence'] = fasta_data['Sequence'].str.replace('\\n', '')"
   ]
  },
  {
   "cell_type": "code",
   "execution_count": 15,
   "id": "b07e856f",
   "metadata": {
    "execution": {
     "iopub.execute_input": "2023-12-15T07:55:17.727228Z",
     "iopub.status.busy": "2023-12-15T07:55:17.726877Z",
     "iopub.status.idle": "2023-12-15T07:55:19.375690Z",
     "shell.execute_reply": "2023-12-15T07:55:19.374615Z"
    },
    "papermill": {
     "duration": 1.675428,
     "end_time": "2023-12-15T07:55:19.378165",
     "exception": false,
     "start_time": "2023-12-15T07:55:17.702737",
     "status": "completed"
    },
    "tags": []
   },
   "outputs": [],
   "source": [
    "merged_data = pd.merge(terms_data, taxonomy_data, on='Protein_ID')"
   ]
  },
  {
   "cell_type": "code",
   "execution_count": 16,
   "id": "5a80d254",
   "metadata": {
    "execution": {
     "iopub.execute_input": "2023-12-15T07:55:19.423654Z",
     "iopub.status.busy": "2023-12-15T07:55:19.423307Z",
     "iopub.status.idle": "2023-12-15T07:55:22.024416Z",
     "shell.execute_reply": "2023-12-15T07:55:22.023529Z"
    },
    "papermill": {
     "duration": 2.62656,
     "end_time": "2023-12-15T07:55:22.027167",
     "exception": false,
     "start_time": "2023-12-15T07:55:19.400607",
     "status": "completed"
    },
    "tags": []
   },
   "outputs": [],
   "source": [
    "merged_data = pd.merge(merged_data, fasta_data[['Protein_ID', 'Sequence']], on='Protein_ID')"
   ]
  },
  {
   "cell_type": "code",
   "execution_count": 17,
   "id": "5854771c",
   "metadata": {
    "execution": {
     "iopub.execute_input": "2023-12-15T07:55:22.073829Z",
     "iopub.status.busy": "2023-12-15T07:55:22.073532Z",
     "iopub.status.idle": "2023-12-15T07:55:27.139713Z",
     "shell.execute_reply": "2023-12-15T07:55:27.138688Z"
    },
    "papermill": {
     "duration": 5.092182,
     "end_time": "2023-12-15T07:55:27.142293",
     "exception": false,
     "start_time": "2023-12-15T07:55:22.050111",
     "status": "completed"
    },
    "tags": []
   },
   "outputs": [],
   "source": [
    "# Let's look at the weights from IA.txt\n",
    "\n",
    "merged_data = pd.merge(merged_data, ia_data, on='GO_Term_ID')"
   ]
  },
  {
   "cell_type": "code",
   "execution_count": 18,
   "id": "ff227b1a",
   "metadata": {
    "execution": {
     "iopub.execute_input": "2023-12-15T07:55:27.189178Z",
     "iopub.status.busy": "2023-12-15T07:55:27.188383Z",
     "iopub.status.idle": "2023-12-15T07:55:27.203356Z",
     "shell.execute_reply": "2023-12-15T07:55:27.202525Z"
    },
    "papermill": {
     "duration": 0.040685,
     "end_time": "2023-12-15T07:55:27.205209",
     "exception": false,
     "start_time": "2023-12-15T07:55:27.164524",
     "status": "completed"
    },
    "tags": []
   },
   "outputs": [
    {
     "data": {
      "text/html": [
       "<div>\n",
       "<style scoped>\n",
       "    .dataframe tbody tr th:only-of-type {\n",
       "        vertical-align: middle;\n",
       "    }\n",
       "\n",
       "    .dataframe tbody tr th {\n",
       "        vertical-align: top;\n",
       "    }\n",
       "\n",
       "    .dataframe thead th {\n",
       "        text-align: right;\n",
       "    }\n",
       "</style>\n",
       "<table border=\"1\" class=\"dataframe\">\n",
       "  <thead>\n",
       "    <tr style=\"text-align: right;\">\n",
       "      <th></th>\n",
       "      <th>Protein_ID</th>\n",
       "      <th>GO_Term_ID</th>\n",
       "      <th>Ontology</th>\n",
       "      <th>Taxon_ID</th>\n",
       "      <th>Sequence</th>\n",
       "      <th>Weight</th>\n",
       "    </tr>\n",
       "  </thead>\n",
       "  <tbody>\n",
       "    <tr>\n",
       "      <th>0</th>\n",
       "      <td>A0A009IHW8</td>\n",
       "      <td>GO:0008152</td>\n",
       "      <td>BPO</td>\n",
       "      <td>1310613</td>\n",
       "      <td>MSLEQKKGADIISKILQIQNSIGKTTSPSTLKTKLSEISRKEQENA...</td>\n",
       "      <td>1.598544</td>\n",
       "    </tr>\n",
       "    <tr>\n",
       "      <th>1</th>\n",
       "      <td>A0A023I7E1</td>\n",
       "      <td>GO:0008152</td>\n",
       "      <td>BPO</td>\n",
       "      <td>4839</td>\n",
       "      <td>MRFQVIVAAATITMITSYIPGVASQSTSDGDDLFVPVSNFDPKSIF...</td>\n",
       "      <td>1.598544</td>\n",
       "    </tr>\n",
       "    <tr>\n",
       "      <th>2</th>\n",
       "      <td>A0A024CBD6</td>\n",
       "      <td>GO:0008152</td>\n",
       "      <td>BPO</td>\n",
       "      <td>9823</td>\n",
       "      <td>MMAFCALRKALPCRPENPFSSRCFVEILWVSLALVFLLPMPSDACD...</td>\n",
       "      <td>1.598544</td>\n",
       "    </tr>\n",
       "    <tr>\n",
       "      <th>3</th>\n",
       "      <td>A0A024RAD5</td>\n",
       "      <td>GO:0008152</td>\n",
       "      <td>BPO</td>\n",
       "      <td>9606</td>\n",
       "      <td>MGYFRCAGAGSFGRRRKMEPSTAARAWALFWLLLPLLGAVCASGPR...</td>\n",
       "      <td>1.598544</td>\n",
       "    </tr>\n",
       "    <tr>\n",
       "      <th>4</th>\n",
       "      <td>A0A031WDE4</td>\n",
       "      <td>GO:0008152</td>\n",
       "      <td>BPO</td>\n",
       "      <td>1496</td>\n",
       "      <td>MARGTFERTKKLREESINAEPHISIERAVLMTEAYKKYEGSVEIPV...</td>\n",
       "      <td>1.598544</td>\n",
       "    </tr>\n",
       "    <tr>\n",
       "      <th>...</th>\n",
       "      <td>...</td>\n",
       "      <td>...</td>\n",
       "      <td>...</td>\n",
       "      <td>...</td>\n",
       "      <td>...</td>\n",
       "      <td>...</td>\n",
       "    </tr>\n",
       "    <tr>\n",
       "      <th>5363858</th>\n",
       "      <td>Q9VMG0</td>\n",
       "      <td>GO:0019186</td>\n",
       "      <td>MFO</td>\n",
       "      <td>7227</td>\n",
       "      <td>MSAITIRAMTIGDYEEVEAFLAVHFFKQEPLMLIPQEDPKQSEVSS...</td>\n",
       "      <td>7.592457</td>\n",
       "    </tr>\n",
       "    <tr>\n",
       "      <th>5363859</th>\n",
       "      <td>Q9XHE6</td>\n",
       "      <td>GO:0018674</td>\n",
       "      <td>MFO</td>\n",
       "      <td>34256</td>\n",
       "      <td>MELLQLWSALIILVVTYTISLLINQWRKPKPQGKFPPGPPKLPLIG...</td>\n",
       "      <td>0.415037</td>\n",
       "    </tr>\n",
       "    <tr>\n",
       "      <th>5363860</th>\n",
       "      <td>Q9XHE7</td>\n",
       "      <td>GO:0018674</td>\n",
       "      <td>MFO</td>\n",
       "      <td>34256</td>\n",
       "      <td>MELQISSAIIILVVTYTISLLIIKQWRKPKPQENLPPGPPKLPLIG...</td>\n",
       "      <td>0.415037</td>\n",
       "    </tr>\n",
       "    <tr>\n",
       "      <th>5363861</th>\n",
       "      <td>Q9Z4P6</td>\n",
       "      <td>GO:0050002</td>\n",
       "      <td>MFO</td>\n",
       "      <td>499177</td>\n",
       "      <td>MSITLESAKEHANDLAVLCCRAEEGTVIGPSNLEDPAIFGDLEDSG...</td>\n",
       "      <td>0.000000</td>\n",
       "    </tr>\n",
       "    <tr>\n",
       "      <th>5363862</th>\n",
       "      <td>Q9Z4P6</td>\n",
       "      <td>GO:0050485</td>\n",
       "      <td>MFO</td>\n",
       "      <td>499177</td>\n",
       "      <td>MSITLESAKEHANDLAVLCCRAEEGTVIGPSNLEDPAIFGDLEDSG...</td>\n",
       "      <td>3.169925</td>\n",
       "    </tr>\n",
       "  </tbody>\n",
       "</table>\n",
       "<p>5363863 rows × 6 columns</p>\n",
       "</div>"
      ],
      "text/plain": [
       "         Protein_ID  GO_Term_ID Ontology Taxon_ID  \\\n",
       "0        A0A009IHW8  GO:0008152      BPO  1310613   \n",
       "1        A0A023I7E1  GO:0008152      BPO     4839   \n",
       "2        A0A024CBD6  GO:0008152      BPO     9823   \n",
       "3        A0A024RAD5  GO:0008152      BPO     9606   \n",
       "4        A0A031WDE4  GO:0008152      BPO     1496   \n",
       "...             ...         ...      ...      ...   \n",
       "5363858      Q9VMG0  GO:0019186      MFO     7227   \n",
       "5363859      Q9XHE6  GO:0018674      MFO    34256   \n",
       "5363860      Q9XHE7  GO:0018674      MFO    34256   \n",
       "5363861      Q9Z4P6  GO:0050002      MFO   499177   \n",
       "5363862      Q9Z4P6  GO:0050485      MFO   499177   \n",
       "\n",
       "                                                  Sequence    Weight  \n",
       "0        MSLEQKKGADIISKILQIQNSIGKTTSPSTLKTKLSEISRKEQENA...  1.598544  \n",
       "1        MRFQVIVAAATITMITSYIPGVASQSTSDGDDLFVPVSNFDPKSIF...  1.598544  \n",
       "2        MMAFCALRKALPCRPENPFSSRCFVEILWVSLALVFLLPMPSDACD...  1.598544  \n",
       "3        MGYFRCAGAGSFGRRRKMEPSTAARAWALFWLLLPLLGAVCASGPR...  1.598544  \n",
       "4        MARGTFERTKKLREESINAEPHISIERAVLMTEAYKKYEGSVEIPV...  1.598544  \n",
       "...                                                    ...       ...  \n",
       "5363858  MSAITIRAMTIGDYEEVEAFLAVHFFKQEPLMLIPQEDPKQSEVSS...  7.592457  \n",
       "5363859  MELLQLWSALIILVVTYTISLLINQWRKPKPQGKFPPGPPKLPLIG...  0.415037  \n",
       "5363860  MELQISSAIIILVVTYTISLLIIKQWRKPKPQENLPPGPPKLPLIG...  0.415037  \n",
       "5363861  MSITLESAKEHANDLAVLCCRAEEGTVIGPSNLEDPAIFGDLEDSG...  0.000000  \n",
       "5363862  MSITLESAKEHANDLAVLCCRAEEGTVIGPSNLEDPAIFGDLEDSG...  3.169925  \n",
       "\n",
       "[5363863 rows x 6 columns]"
      ]
     },
     "execution_count": 18,
     "metadata": {},
     "output_type": "execute_result"
    }
   ],
   "source": [
    "merged_data"
   ]
  },
  {
   "cell_type": "markdown",
   "id": "4ada9336",
   "metadata": {
    "papermill": {
     "duration": 0.021603,
     "end_time": "2023-12-15T07:55:27.248595",
     "exception": false,
     "start_time": "2023-12-15T07:55:27.226992",
     "status": "completed"
    },
    "tags": []
   },
   "source": [
    "#### We received a new, ready-to-use dataset. What can you say about it:  \n",
    "\n",
    "`Dataset size:` The dataset contains 6 columns and 5363863 rows  \n",
    "\n",
    "`Data types:` Basically, all columns contain string (object) and numeric (float64) values  \n",
    "\n",
    "`No duplicates:` According to the data presented, there are no duplicates, since the \"Duplicates\" column in the explore_data output was empty  \n",
    "\n",
    "`No missing values:` All columns have no missing values, making data analysis easier  \n",
    "\n",
    "`Weight Values:` Based on the \"Weight\" column, weights are associated with each unique GO term. Weights can be important for assessing model quality, especially when using weighted metrics  \n",
    "\n",
    "`Distribution of GO terms:` The dataset includes terms from different ontologies (Biological Process, Molecular Function), which allows you to take into account various aspects of gene function  \n",
    "\n",
    "`Taxon:` Taxon information (Taxon_ID) is present, which can be useful when training a model taking into account taxonomic information  "
   ]
  },
  {
   "cell_type": "markdown",
   "id": "cc35597b",
   "metadata": {
    "papermill": {
     "duration": 0.021568,
     "end_time": "2023-12-15T07:55:27.292269",
     "exception": false,
     "start_time": "2023-12-15T07:55:27.270701",
     "status": "completed"
    },
    "tags": []
   },
   "source": [
    "## Let's examine the `go-basic.obo` file, especially in the context of the GO biological ontology. Consider incorporating a hierarchy of terms into training \n"
   ]
  },
  {
   "cell_type": "code",
   "execution_count": 19,
   "id": "64b7b024",
   "metadata": {
    "execution": {
     "iopub.execute_input": "2023-12-15T07:55:27.337876Z",
     "iopub.status.busy": "2023-12-15T07:55:27.337328Z",
     "iopub.status.idle": "2023-12-15T07:55:27.600130Z",
     "shell.execute_reply": "2023-12-15T07:55:27.598533Z"
    },
    "papermill": {
     "duration": 0.288512,
     "end_time": "2023-12-15T07:55:27.602548",
     "exception": false,
     "start_time": "2023-12-15T07:55:27.314036",
     "status": "completed"
    },
    "tags": []
   },
   "outputs": [
    {
     "name": "stdout",
     "output_type": "stream",
     "text": [
      "Number of nodes: 43248\n",
      "Number of edges: 84805\n",
      "\n",
      "First few nodes in the graph:\n",
      "GO:0000001: {'name': 'mitochondrion inheritance', 'namespace': 'biological_process', 'def': '\"The distribution of mitochondria, including the mitochondrial genome, into daughter cells after mitosis or meiosis, mediated by interactions between mitochondria and the cytoskeleton.\" [GOC:mcc, PMID:10873824, PMID:11389764]', 'synonym': ['\"mitochondrial inheritance\" EXACT []'], 'is_a': ['GO:0048308', 'GO:0048311']}\n",
      "GO:0000002: {'name': 'mitochondrial genome maintenance', 'namespace': 'biological_process', 'def': '\"The maintenance of the structure and integrity of the mitochondrial genome; includes replication and segregation of the mitochondrial chromosome.\" [GOC:ai, GOC:vw]', 'is_a': ['GO:0007005']}\n",
      "GO:0000003: {'name': 'reproduction', 'namespace': 'biological_process', 'alt_id': ['GO:0019952', 'GO:0050876'], 'def': '\"The production of new individuals that contain some portion of genetic material inherited from one or more parent organisms.\" [GOC:go_curators, GOC:isa_complete, GOC:jl, ISBN:0198506732]', 'subset': ['goslim_agr', 'goslim_chembl', 'goslim_flybase_ribbon', 'goslim_pir', 'goslim_plant'], 'synonym': ['\"reproductive physiological process\" EXACT []'], 'xref': ['Wikipedia:Reproduction'], 'is_a': ['GO:0008150']}\n",
      "GO:0000006: {'name': 'high-affinity zinc transmembrane transporter activity', 'namespace': 'molecular_function', 'def': '\"Enables the transfer of zinc ions (Zn2+) from one side of a membrane to the other, probably powered by proton motive force. In high-affinity transport the transporter is able to bind the solute even if it is only present at very low concentrations.\" [TC:2.A.5.1.1]', 'synonym': ['\"high affinity zinc uptake transmembrane transporter activity\" EXACT []', '\"high-affinity zinc uptake transmembrane transporter activity\" RELATED []'], 'is_a': ['GO:0005385']}\n",
      "GO:0000007: {'name': 'low-affinity zinc ion transmembrane transporter activity', 'namespace': 'molecular_function', 'def': '\"Enables the transfer of a solute or solutes from one side of a membrane to the other according to the reaction: Zn2+ = Zn2+, probably powered by proton motive force. In low-affinity transport the transporter is able to bind the solute only if it is present at very high concentrations.\" [GOC:mtg_transport, ISBN:0815340729]', 'is_a': ['GO:0005385']}\n",
      "\n",
      "First few edges in the graph:\n",
      "GO:0000001 -> GO:0048308: {}\n",
      "GO:0000001 -> GO:0048311: {}\n",
      "GO:0000002 -> GO:0007005: {}\n",
      "GO:0000003 -> GO:0008150: {}\n",
      "GO:0000006 -> GO:0005385: {}\n"
     ]
    }
   ],
   "source": [
    "# Display information about the graph structure\n",
    "\n",
    "print(\"Number of nodes:\", graph.number_of_nodes())\n",
    "print(\"Number of edges:\", graph.number_of_edges())\n",
    "\n",
    "# Print the first few nodes of the graph\n",
    "\n",
    "print(\"\\nFirst few nodes in the graph:\")\n",
    "for i, (node, data) in enumerate(graph.nodes(data=True)):\n",
    "     if i < 5:\n",
    "        print(f\"{node}: {data}\")\n",
    "\n",
    "# Print the first few edges of the graph\n",
    "\n",
    "print(\"\\nFirst few edges in the graph:\")\n",
    "for i, (source, target, data) in enumerate(graph.edges(data=True)):\n",
    "     if i < 5:\n",
    "        print(f\"{source} -> {target}: {data}\")"
   ]
  },
  {
   "cell_type": "markdown",
   "id": "49b06daf",
   "metadata": {
    "papermill": {
     "duration": 0.025932,
     "end_time": "2023-12-15T07:55:27.654825",
     "exception": false,
     "start_time": "2023-12-15T07:55:27.628893",
     "status": "completed"
    },
    "tags": []
   },
   "source": [
    "#### The results of the analysis of the `go-basic.obo` file allow us to draw the following conclusions:  \n",
    "\n",
    "`Number of nodes and edges:`  \n",
    "\n",
    ">Total nodes: 43,248  \n",
    "Total ribs: 84,805  \n",
    "\n",
    "`Examples of nodes:`  \n",
    "\n",
    ">GO:0000001: \"mitochondrion inheritance\" in the space of biological processes  \n",
    "GO:0000002: \"mitochondrial genome maintenance\" in the space of biological processes  \n",
    "GO:0000003: \"reproduction\" in the space of biological processes  \n",
    "GO:0000006: \"high-affinity zinc transmembrane transporter activity\" in molecular function space  \n",
    "GO:0000007: \"low-affinity zinc ion transmembrane transporter activity\" in molecular function space  \n",
    "\n",
    "`Structure of nodes and edges:`  \n",
    "\n",
    ">Nodes represent terms in the GO ontology that describe biological processes, molecular functions, and cell components  \n",
    "Edges represent relationships between terms, such as the \"is_a\" relationship (which is a subtype)  \n",
    "\n",
    "`Information in nodes:`  \n",
    "\n",
    ">Nodes contain information about the term, its description, namespace membership, synonyms, alternative identifiers and other properties  \n",
    "\n",
    "`Hierarchy:`  \n",
    "\n",
    ">The GO ontology has a hierarchical structure, where some terms are subtypes of others\n",
    "These findings highlight the importance of term hierarchy structure in a GO ontology, which can be useful when training a model to predict protein functions  "
   ]
  },
  {
   "cell_type": "markdown",
   "id": "2dd18d1c",
   "metadata": {
    "papermill": {
     "duration": 0.021787,
     "end_time": "2023-12-15T07:55:27.699311",
     "exception": false,
     "start_time": "2023-12-15T07:55:27.677524",
     "status": "completed"
    },
    "tags": []
   },
   "source": [
    "## Exploratory Data Analysis"
   ]
  },
  {
   "cell_type": "code",
   "execution_count": 20,
   "id": "5e02a426",
   "metadata": {
    "execution": {
     "iopub.execute_input": "2023-12-15T07:55:27.744878Z",
     "iopub.status.busy": "2023-12-15T07:55:27.744570Z",
     "iopub.status.idle": "2023-12-15T07:55:29.364463Z",
     "shell.execute_reply": "2023-12-15T07:55:29.363676Z"
    },
    "papermill": {
     "duration": 1.645556,
     "end_time": "2023-12-15T07:55:29.366892",
     "exception": false,
     "start_time": "2023-12-15T07:55:27.721336",
     "status": "completed"
    },
    "tags": []
   },
   "outputs": [],
   "source": [
    "# Get a random subsample of 50% of the data  \n",
    "\n",
    "merged_data_sample = merged_data.sample(frac=0.5, random_state=12345)"
   ]
  },
  {
   "cell_type": "code",
   "execution_count": 21,
   "id": "731b9f71",
   "metadata": {
    "execution": {
     "iopub.execute_input": "2023-12-15T07:55:29.414651Z",
     "iopub.status.busy": "2023-12-15T07:55:29.414274Z",
     "iopub.status.idle": "2023-12-15T07:55:29.429069Z",
     "shell.execute_reply": "2023-12-15T07:55:29.428178Z"
    },
    "papermill": {
     "duration": 0.041691,
     "end_time": "2023-12-15T07:55:29.431590",
     "exception": false,
     "start_time": "2023-12-15T07:55:29.389899",
     "status": "completed"
    },
    "tags": []
   },
   "outputs": [
    {
     "data": {
      "text/html": [
       "<div>\n",
       "<style scoped>\n",
       "    .dataframe tbody tr th:only-of-type {\n",
       "        vertical-align: middle;\n",
       "    }\n",
       "\n",
       "    .dataframe tbody tr th {\n",
       "        vertical-align: top;\n",
       "    }\n",
       "\n",
       "    .dataframe thead th {\n",
       "        text-align: right;\n",
       "    }\n",
       "</style>\n",
       "<table border=\"1\" class=\"dataframe\">\n",
       "  <thead>\n",
       "    <tr style=\"text-align: right;\">\n",
       "      <th></th>\n",
       "      <th>Protein_ID</th>\n",
       "      <th>GO_Term_ID</th>\n",
       "      <th>Ontology</th>\n",
       "      <th>Taxon_ID</th>\n",
       "      <th>Sequence</th>\n",
       "      <th>Weight</th>\n",
       "    </tr>\n",
       "  </thead>\n",
       "  <tbody>\n",
       "    <tr>\n",
       "      <th>1688184</th>\n",
       "      <td>A0A8I5ZYP2</td>\n",
       "      <td>GO:0048519</td>\n",
       "      <td>BPO</td>\n",
       "      <td>10116</td>\n",
       "      <td>MANDSPAKSLVDIDLSSLRDPAGIFELVEVVGNGTYGQVYKGRHVK...</td>\n",
       "      <td>1.348521</td>\n",
       "    </tr>\n",
       "    <tr>\n",
       "      <th>1018422</th>\n",
       "      <td>Q969Q5</td>\n",
       "      <td>GO:0005622</td>\n",
       "      <td>CCO</td>\n",
       "      <td>9606</td>\n",
       "      <td>MSGQRVDVKVVMLGKEYVGKTSLVERYVHDRFLVGPYQNTIGAAFV...</td>\n",
       "      <td>0.366945</td>\n",
       "    </tr>\n",
       "    <tr>\n",
       "      <th>5091231</th>\n",
       "      <td>F1NUT2</td>\n",
       "      <td>GO:2000833</td>\n",
       "      <td>BPO</td>\n",
       "      <td>9031</td>\n",
       "      <td>MPEGRVPRRGSPAPPAPPPSRRRRRRRLAAMPVGRGQPASWLLVLG...</td>\n",
       "      <td>0.000000</td>\n",
       "    </tr>\n",
       "    <tr>\n",
       "      <th>2530179</th>\n",
       "      <td>P92973</td>\n",
       "      <td>GO:0097159</td>\n",
       "      <td>MFO</td>\n",
       "      <td>3702</td>\n",
       "      <td>METNSSGEDLVIKTRKPYTITKQRERWTEEEHNRFIEALRLYGRAW...</td>\n",
       "      <td>2.154321</td>\n",
       "    </tr>\n",
       "    <tr>\n",
       "      <th>4861188</th>\n",
       "      <td>Q9SMU8</td>\n",
       "      <td>GO:0005618</td>\n",
       "      <td>CCO</td>\n",
       "      <td>3702</td>\n",
       "      <td>MHFSSSSTSSTWTILITLGCLMLHASLSAAQLTPTFYDRSCPNVTN...</td>\n",
       "      <td>1.164078</td>\n",
       "    </tr>\n",
       "    <tr>\n",
       "      <th>...</th>\n",
       "      <td>...</td>\n",
       "      <td>...</td>\n",
       "      <td>...</td>\n",
       "      <td>...</td>\n",
       "      <td>...</td>\n",
       "      <td>...</td>\n",
       "    </tr>\n",
       "    <tr>\n",
       "      <th>4439579</th>\n",
       "      <td>Q8QZS3</td>\n",
       "      <td>GO:0043409</td>\n",
       "      <td>BPO</td>\n",
       "      <td>10090</td>\n",
       "      <td>MNAIVALCHFCELHGPRTLFCTEVLHAPLPQGAGSGDSPDQVEQAE...</td>\n",
       "      <td>0.133524</td>\n",
       "    </tr>\n",
       "    <tr>\n",
       "      <th>1974659</th>\n",
       "      <td>M9MSM5</td>\n",
       "      <td>GO:0022603</td>\n",
       "      <td>BPO</td>\n",
       "      <td>7227</td>\n",
       "      <td>MSSMNQMSVLMDKINTTLQSCPIVCINEPDTHSANTEILQTSPEST...</td>\n",
       "      <td>1.715892</td>\n",
       "    </tr>\n",
       "    <tr>\n",
       "      <th>814866</th>\n",
       "      <td>Q84TH8</td>\n",
       "      <td>GO:0032502</td>\n",
       "      <td>BPO</td>\n",
       "      <td>3702</td>\n",
       "      <td>MASISTASSSSSLLFPSRNFKSIPLLPQQRSSVSFVRCFSKNSSTE...</td>\n",
       "      <td>1.684844</td>\n",
       "    </tr>\n",
       "    <tr>\n",
       "      <th>3320049</th>\n",
       "      <td>I3L2R2</td>\n",
       "      <td>GO:0005654</td>\n",
       "      <td>CCO</td>\n",
       "      <td>9606</td>\n",
       "      <td>XWLVETQVKARRRKRGAQKGSGSPTHSLSQKSTRLSGAAPAHSAAD...</td>\n",
       "      <td>0.347215</td>\n",
       "    </tr>\n",
       "    <tr>\n",
       "      <th>1047008</th>\n",
       "      <td>Q71DI3</td>\n",
       "      <td>GO:0043226</td>\n",
       "      <td>CCO</td>\n",
       "      <td>9606</td>\n",
       "      <td>MARTKQTARKSTGGKAPRKQLATKAARKSAPATGGVKKPHRYRPGT...</td>\n",
       "      <td>0.584346</td>\n",
       "    </tr>\n",
       "  </tbody>\n",
       "</table>\n",
       "<p>2681932 rows × 6 columns</p>\n",
       "</div>"
      ],
      "text/plain": [
       "         Protein_ID  GO_Term_ID Ontology Taxon_ID  \\\n",
       "1688184  A0A8I5ZYP2  GO:0048519      BPO    10116   \n",
       "1018422      Q969Q5  GO:0005622      CCO     9606   \n",
       "5091231      F1NUT2  GO:2000833      BPO     9031   \n",
       "2530179      P92973  GO:0097159      MFO     3702   \n",
       "4861188      Q9SMU8  GO:0005618      CCO     3702   \n",
       "...             ...         ...      ...      ...   \n",
       "4439579      Q8QZS3  GO:0043409      BPO    10090   \n",
       "1974659      M9MSM5  GO:0022603      BPO     7227   \n",
       "814866       Q84TH8  GO:0032502      BPO     3702   \n",
       "3320049      I3L2R2  GO:0005654      CCO     9606   \n",
       "1047008      Q71DI3  GO:0043226      CCO     9606   \n",
       "\n",
       "                                                  Sequence    Weight  \n",
       "1688184  MANDSPAKSLVDIDLSSLRDPAGIFELVEVVGNGTYGQVYKGRHVK...  1.348521  \n",
       "1018422  MSGQRVDVKVVMLGKEYVGKTSLVERYVHDRFLVGPYQNTIGAAFV...  0.366945  \n",
       "5091231  MPEGRVPRRGSPAPPAPPPSRRRRRRRLAAMPVGRGQPASWLLVLG...  0.000000  \n",
       "2530179  METNSSGEDLVIKTRKPYTITKQRERWTEEEHNRFIEALRLYGRAW...  2.154321  \n",
       "4861188  MHFSSSSTSSTWTILITLGCLMLHASLSAAQLTPTFYDRSCPNVTN...  1.164078  \n",
       "...                                                    ...       ...  \n",
       "4439579  MNAIVALCHFCELHGPRTLFCTEVLHAPLPQGAGSGDSPDQVEQAE...  0.133524  \n",
       "1974659  MSSMNQMSVLMDKINTTLQSCPIVCINEPDTHSANTEILQTSPEST...  1.715892  \n",
       "814866   MASISTASSSSSLLFPSRNFKSIPLLPQQRSSVSFVRCFSKNSSTE...  1.684844  \n",
       "3320049  XWLVETQVKARRRKRGAQKGSGSPTHSLSQKSTRLSGAAPAHSAAD...  0.347215  \n",
       "1047008  MARTKQTARKSTGGKAPRKQLATKAARKSAPATGGVKKPHRYRPGT...  0.584346  \n",
       "\n",
       "[2681932 rows x 6 columns]"
      ]
     },
     "execution_count": 21,
     "metadata": {},
     "output_type": "execute_result"
    }
   ],
   "source": [
    "merged_data_sample "
   ]
  },
  {
   "cell_type": "markdown",
   "id": "8a4f79f4",
   "metadata": {
    "papermill": {
     "duration": 0.022954,
     "end_time": "2023-12-15T07:55:29.478688",
     "exception": false,
     "start_time": "2023-12-15T07:55:29.455734",
     "status": "completed"
    },
    "tags": []
   },
   "source": [
    "#### Search for anomalies:  \n",
    "\n",
    "To find anomalies in the data, we can look at several aspects such as:  \n",
    "\n",
    "`Length of protein sequences`  \n",
    "\n",
    "Let's build a histogram of the length distribution of protein sequences  \n",
    "We investigate the presence of incorrect values or outliers in the length distribution  \n",
    "\n",
    "`GO Terms`  \n",
    "\n",
    "Let's check if there are protein sequences with unusual or incorrect GO terms  \n",
    "Let's look at the distribution of frequency of use of various terms   "
   ]
  },
  {
   "cell_type": "code",
   "execution_count": 22,
   "id": "322bc14f",
   "metadata": {
    "execution": {
     "iopub.execute_input": "2023-12-15T07:55:29.526898Z",
     "iopub.status.busy": "2023-12-15T07:55:29.526543Z",
     "iopub.status.idle": "2023-12-15T07:55:42.891588Z",
     "shell.execute_reply": "2023-12-15T07:55:42.890722Z"
    },
    "papermill": {
     "duration": 13.391454,
     "end_time": "2023-12-15T07:55:42.893795",
     "exception": false,
     "start_time": "2023-12-15T07:55:29.502341",
     "status": "completed"
    },
    "tags": []
   },
   "outputs": [
    {
     "data": {
      "image/png": "[encoded data removed]",
      "text/plain": [
       "<Figure size 1200x600 with 1 Axes>"
      ]
     },
     "metadata": {},
     "output_type": "display_data"
    }
   ],
   "source": [
    "facecolor='white'\n",
    "gridcolor='gray'\n",
    "\n",
    "plt.figure(figsize=(12, 6))\n",
    "sns.histplot(merged_data_sample['Sequence'].apply(len), bins=50, kde=True, color='skyblue')\n",
    "sns.set(style=\"whitegrid\")\n",
    "plt.title('Protein sequence length distribution')\n",
    "plt.xlabel('Sequence length')\n",
    "plt.ylabel('Frequency')\n",
    "ax = plt.gca()\n",
    "ax.set_facecolor(facecolor)\n",
    "ax.grid(color=gridcolor)\n",
    "plt.show()"
   ]
  },
  {
   "cell_type": "markdown",
   "id": "f7980880",
   "metadata": {
    "papermill": {
     "duration": 0.022821,
     "end_time": "2023-12-15T07:55:42.940374",
     "exception": false,
     "start_time": "2023-12-15T07:55:42.917553",
     "status": "completed"
    },
    "tags": []
   },
   "source": [
    "#### Comparison between training and test set:"
   ]
  },
  {
   "cell_type": "code",
   "execution_count": 23,
   "id": "c2f5fad4",
   "metadata": {
    "execution": {
     "iopub.execute_input": "2023-12-15T07:55:42.987439Z",
     "iopub.status.busy": "2023-12-15T07:55:42.987121Z",
     "iopub.status.idle": "2023-12-15T07:55:45.326384Z",
     "shell.execute_reply": "2023-12-15T07:55:45.325530Z"
    },
    "papermill": {
     "duration": 2.365772,
     "end_time": "2023-12-15T07:55:45.328885",
     "exception": false,
     "start_time": "2023-12-15T07:55:42.963113",
     "status": "completed"
    },
    "tags": []
   },
   "outputs": [],
   "source": [
    "test_sequences = [str(record.seq) for record in SeqIO.parse('/kaggle/input/cafa-5-protein-function-prediction/Test (Targets)/testsuperset.fasta', 'fasta')]\n",
    "test_taxonomy = pd.read_csv('/kaggle/input/cafa-5-protein-function-prediction/Test (Targets)/testsuperset-taxon-list.tsv', sep='\\t', encoding='ISO-8859-1')"
   ]
  },
  {
   "cell_type": "code",
   "execution_count": 24,
   "id": "c0efdac6",
   "metadata": {
    "execution": {
     "iopub.execute_input": "2023-12-15T07:55:45.376920Z",
     "iopub.status.busy": "2023-12-15T07:55:45.376604Z",
     "iopub.status.idle": "2023-12-15T07:55:45.385113Z",
     "shell.execute_reply": "2023-12-15T07:55:45.384234Z"
    },
    "papermill": {
     "duration": 0.034598,
     "end_time": "2023-12-15T07:55:45.387057",
     "exception": false,
     "start_time": "2023-12-15T07:55:45.352459",
     "status": "completed"
    },
    "tags": []
   },
   "outputs": [
    {
     "data": {
      "text/html": [
       "<div>\n",
       "<style scoped>\n",
       "    .dataframe tbody tr th:only-of-type {\n",
       "        vertical-align: middle;\n",
       "    }\n",
       "\n",
       "    .dataframe tbody tr th {\n",
       "        vertical-align: top;\n",
       "    }\n",
       "\n",
       "    .dataframe thead th {\n",
       "        text-align: right;\n",
       "    }\n",
       "</style>\n",
       "<table border=\"1\" class=\"dataframe\">\n",
       "  <thead>\n",
       "    <tr style=\"text-align: right;\">\n",
       "      <th></th>\n",
       "      <th>ID</th>\n",
       "      <th>Species</th>\n",
       "    </tr>\n",
       "  </thead>\n",
       "  <tbody>\n",
       "    <tr>\n",
       "      <th>0</th>\n",
       "      <td>9606</td>\n",
       "      <td>homo sapiens[All Names]</td>\n",
       "    </tr>\n",
       "    <tr>\n",
       "      <th>1</th>\n",
       "      <td>10090</td>\n",
       "      <td>mus musculus[All Names]</td>\n",
       "    </tr>\n",
       "    <tr>\n",
       "      <th>2</th>\n",
       "      <td>10116</td>\n",
       "      <td>Rattus norvegicus</td>\n",
       "    </tr>\n",
       "  </tbody>\n",
       "</table>\n",
       "</div>"
      ],
      "text/plain": [
       "      ID                  Species\n",
       "0   9606  homo sapiens[All Names]\n",
       "1  10090  mus musculus[All Names]\n",
       "2  10116        Rattus norvegicus"
      ]
     },
     "execution_count": 24,
     "metadata": {},
     "output_type": "execute_result"
    }
   ],
   "source": [
    "test_taxonomy.head(3)"
   ]
  },
  {
   "cell_type": "code",
   "execution_count": 25,
   "id": "90e26958",
   "metadata": {
    "execution": {
     "iopub.execute_input": "2023-12-15T07:55:45.434382Z",
     "iopub.status.busy": "2023-12-15T07:55:45.434123Z",
     "iopub.status.idle": "2023-12-15T07:55:45.437853Z",
     "shell.execute_reply": "2023-12-15T07:55:45.436992Z"
    },
    "papermill": {
     "duration": 0.029488,
     "end_time": "2023-12-15T07:55:45.439765",
     "exception": false,
     "start_time": "2023-12-15T07:55:45.410277",
     "status": "completed"
    },
    "tags": []
   },
   "outputs": [],
   "source": [
    "# test_sequences"
   ]
  },
  {
   "cell_type": "code",
   "execution_count": 26,
   "id": "7c8bf89f",
   "metadata": {
    "execution": {
     "iopub.execute_input": "2023-12-15T07:55:45.486852Z",
     "iopub.status.busy": "2023-12-15T07:55:45.486571Z",
     "iopub.status.idle": "2023-12-15T07:55:45.644803Z",
     "shell.execute_reply": "2023-12-15T07:55:45.643984Z"
    },
    "papermill": {
     "duration": 0.184553,
     "end_time": "2023-12-15T07:55:45.647132",
     "exception": false,
     "start_time": "2023-12-15T07:55:45.462579",
     "status": "completed"
    },
    "tags": []
   },
   "outputs": [],
   "source": [
    "# Again we make a random sample that will equalize the number of lines in the train and test, \n",
    "# of course this reduces the accuracy, but as an experiment you can try\n",
    "\n",
    "merged_data_for_test = merged_data.sample(frac=0.0000168, random_state=12345)"
   ]
  },
  {
   "cell_type": "code",
   "execution_count": 27,
   "id": "c28492ed",
   "metadata": {
    "execution": {
     "iopub.execute_input": "2023-12-15T07:55:45.695706Z",
     "iopub.status.busy": "2023-12-15T07:55:45.695386Z",
     "iopub.status.idle": "2023-12-15T07:55:45.699390Z",
     "shell.execute_reply": "2023-12-15T07:55:45.698499Z"
    },
    "papermill": {
     "duration": 0.030389,
     "end_time": "2023-12-15T07:55:45.701291",
     "exception": false,
     "start_time": "2023-12-15T07:55:45.670902",
     "status": "completed"
    },
    "tags": []
   },
   "outputs": [],
   "source": [
    "# merged_data_for_test"
   ]
  },
  {
   "cell_type": "code",
   "execution_count": 28,
   "id": "3ba896ff",
   "metadata": {
    "execution": {
     "iopub.execute_input": "2023-12-15T07:55:45.748974Z",
     "iopub.status.busy": "2023-12-15T07:55:45.748708Z",
     "iopub.status.idle": "2023-12-15T07:55:47.358860Z",
     "shell.execute_reply": "2023-12-15T07:55:47.357935Z"
    },
    "papermill": {
     "duration": 1.638109,
     "end_time": "2023-12-15T07:55:47.362783",
     "exception": false,
     "start_time": "2023-12-15T07:55:45.724674",
     "status": "completed"
    },
    "tags": []
   },
   "outputs": [
    {
     "data": {
      "image/png": "[encoded data removed]",
      "text/plain": [
       "<Figure size 1400x1300 with 1 Axes>"
      ]
     },
     "metadata": {},
     "output_type": "display_data"
    }
   ],
   "source": [
    "# Comparison of class distribution\n",
    "\n",
    "plt.figure(figsize=(14, 13))\n",
    "sns.countplot(y='Taxon_ID', data=merged_data_for_test,\n",
    "               order=merged_data_for_test['Taxon_ID'].value_counts().index, color='skyblue',label='Train Set')\n",
    "sns.countplot(y='ID', data=test_taxonomy,\n",
    "               order=test_taxonomy['ID'].value_counts().index, color='hotpink', label='Test Set')\n",
    "plt.title('Comparison of class distribution between training and test datasets')\n",
    "plt.xlabel('Use frequency')\n",
    "plt.ylabel('Species ID')\n",
    "ax = plt.gca()\n",
    "ax.set_facecolor(facecolor)\n",
    "ax.grid(color=gridcolor)\n",
    "plt.legend()\n",
    "plt.show()"
   ]
  },
  {
   "cell_type": "markdown",
   "id": "399e7d83",
   "metadata": {
    "papermill": {
     "duration": 0.025978,
     "end_time": "2023-12-15T07:55:47.415109",
     "exception": false,
     "start_time": "2023-12-15T07:55:47.389131",
     "status": "completed"
    },
    "tags": []
   },
   "source": [
    "The comparison is meaningless, since in the test each protein is presented in one copy, but it is interesting now to look at the distribution of species in the train "
   ]
  },
  {
   "cell_type": "markdown",
   "id": "e22a53d2",
   "metadata": {
    "papermill": {
     "duration": 0.025306,
     "end_time": "2023-12-15T07:55:47.465766",
     "exception": false,
     "start_time": "2023-12-15T07:55:47.440460",
     "status": "completed"
    },
    "tags": []
   },
   "source": [
    "Since there are 90 types of proteins, and the maximum number of one type is 1,064,498, I will make the threshold 1% of this number"
   ]
  },
  {
   "cell_type": "code",
   "execution_count": 29,
   "id": "33679975",
   "metadata": {
    "execution": {
     "iopub.execute_input": "2023-12-15T07:55:47.518241Z",
     "iopub.status.busy": "2023-12-15T07:55:47.517888Z",
     "iopub.status.idle": "2023-12-15T07:55:48.090046Z",
     "shell.execute_reply": "2023-12-15T07:55:48.089212Z"
    },
    "papermill": {
     "duration": 0.600859,
     "end_time": "2023-12-15T07:55:48.091951",
     "exception": false,
     "start_time": "2023-12-15T07:55:47.491092",
     "status": "completed"
    },
    "tags": []
   },
   "outputs": [],
   "source": [
    "threshold = 10645\n",
    "\n",
    "taxon_counts = merged_data['Taxon_ID'].value_counts()\n",
    "\n",
    "filtered_taxon_counts = taxon_counts[(taxon_counts >= threshold) & (taxon_counts <= taxon_counts.max())]"
   ]
  },
  {
   "cell_type": "code",
   "execution_count": 30,
   "id": "ba1cad4a",
   "metadata": {
    "execution": {
     "iopub.execute_input": "2023-12-15T07:55:48.146639Z",
     "iopub.status.busy": "2023-12-15T07:55:48.146313Z",
     "iopub.status.idle": "2023-12-15T07:55:48.594948Z",
     "shell.execute_reply": "2023-12-15T07:55:48.594049Z"
    },
    "papermill": {
     "duration": 0.477529,
     "end_time": "2023-12-15T07:55:48.596902",
     "exception": false,
     "start_time": "2023-12-15T07:55:48.119373",
     "status": "completed"
    },
    "tags": []
   },
   "outputs": [
    {
     "data": {
      "image/png": "[encoded data removed]",
      "text/plain": [
       "<Figure size 1000x600 with 1 Axes>"
      ]
     },
     "metadata": {},
     "output_type": "display_data"
    }
   ],
   "source": [
    "colors = ['gray', 'salmon', 'pink', 'steelblue', 'hotpink', 'lightgray', 'lightgreen', 'gold', 'seagreen', 'skyblue', 'orchid']\n",
    "\n",
    "plt.figure(figsize=(10, 6))\n",
    "sns.barplot(x=filtered_taxon_counts.values, y=filtered_taxon_counts.index, palette=colors)\n",
    "plt.title('Distribution of protein species in training dataset (constrained above threshold)')\n",
    "plt.xlabel('Use frequency')\n",
    "plt.ylabel('Taxon_ID')\n",
    "ax = plt.gca()\n",
    "ax.set_facecolor(facecolor)\n",
    "ax.grid(color=gridcolor)\n",
    "\n",
    "plt.show()"
   ]
  },
  {
   "cell_type": "markdown",
   "id": "81e0f837",
   "metadata": {
    "papermill": {
     "duration": 0.026172,
     "end_time": "2023-12-15T07:55:48.649865",
     "exception": false,
     "start_time": "2023-12-15T07:55:48.623693",
     "status": "completed"
    },
    "tags": []
   },
   "source": [
    "Obviously - a huge part of the protein protein species belongs to the minority"
   ]
  },
  {
   "cell_type": "markdown",
   "id": "d62ad549",
   "metadata": {
    "papermill": {
     "duration": 0.026348,
     "end_time": "2023-12-15T07:55:48.702312",
     "exception": false,
     "start_time": "2023-12-15T07:55:48.675964",
     "status": "completed"
    },
    "tags": []
   },
   "source": [
    "## Research part. Creating New Features"
   ]
  },
  {
   "cell_type": "markdown",
   "id": "83f5a10d",
   "metadata": {
    "papermill": {
     "duration": 0.026212,
     "end_time": "2023-12-15T07:55:48.754660",
     "exception": false,
     "start_time": "2023-12-15T07:55:48.728448",
     "status": "completed"
    },
    "tags": []
   },
   "source": [
    "Let's create additional features based on protein sequences. The choice of letters to represent amino acids is based on abbreviations used in bioinformatics and molecular biology. Each letter represents an abbreviation for a specific amino acid. Here's what these abbreviations mean:  \n",
    "\n",
    "A: Alanine  \n",
    "C: Cysteine  \n",
    "D: Aspartic acid  \n",
    "E: Glutamic acid  \n",
    "F: Phenylalanine  \n",
    "G: Glycine  \n",
    "H: Histidine  \n",
    "I: Isoleucine  \n",
    "K: Lysine  \n",
    "L: Leucine  \n",
    "M: Methionine  \n",
    "N: Asparagine  \n",
    "P: Proline  \n",
    "Q: Glutamine  \n",
    "R: Arginine  \n",
    "S: Serine  \n",
    "T: Threonine  \n",
    "V: Valine  \n",
    "W: Tryptophan  \n",
    "Y: Tyrosine  \n",
    "\n",
    "These letters represent the basic 20 standard amino acids that make up proteins. In bioinformatics they are widely used to represent sequences of proteins and nucleotides (in the case of nucleic acids)"
   ]
  },
  {
   "cell_type": "markdown",
   "id": "b7eb62e6",
   "metadata": {
    "papermill": {
     "duration": 0.025792,
     "end_time": "2023-12-15T07:55:48.806672",
     "exception": false,
     "start_time": "2023-12-15T07:55:48.780880",
     "status": "completed"
    },
    "tags": []
   },
   "source": [
    "## NB!"
   ]
  },
  {
   "cell_type": "markdown",
   "id": "4a965d3e",
   "metadata": {
    "papermill": {
     "duration": 0.025926,
     "end_time": "2023-12-15T07:55:48.859155",
     "exception": false,
     "start_time": "2023-12-15T07:55:48.833229",
     "status": "completed"
    },
    "tags": []
   },
   "source": [
    "I had to create an experimental dataset `merged_data_sample` since both locally and on Kaggle the kernel crashed on the next part. Then you can change the frac parameter and increase the random sample accordingly"
   ]
  },
  {
   "cell_type": "code",
   "execution_count": 31,
   "id": "8b14008e",
   "metadata": {
    "execution": {
     "iopub.execute_input": "2023-12-15T07:55:48.914438Z",
     "iopub.status.busy": "2023-12-15T07:55:48.913701Z",
     "iopub.status.idle": "2023-12-15T07:55:49.444997Z",
     "shell.execute_reply": "2023-12-15T07:55:49.443989Z"
    },
    "papermill": {
     "duration": 0.561797,
     "end_time": "2023-12-15T07:55:49.447419",
     "exception": false,
     "start_time": "2023-12-15T07:55:48.885622",
     "status": "completed"
    },
    "tags": []
   },
   "outputs": [],
   "source": [
    "# Receive a random subsample of 10% of the data\n",
    "\n",
    "merged_data_sample = merged_data.sample(frac=0.1, random_state=42)"
   ]
  },
  {
   "cell_type": "code",
   "execution_count": 32,
   "id": "5aebbc8b",
   "metadata": {
    "execution": {
     "iopub.execute_input": "2023-12-15T07:55:49.505702Z",
     "iopub.status.busy": "2023-12-15T07:55:49.504819Z",
     "iopub.status.idle": "2023-12-15T07:55:49.512408Z",
     "shell.execute_reply": "2023-12-15T07:55:49.511521Z"
    },
    "papermill": {
     "duration": 0.039081,
     "end_time": "2023-12-15T07:55:49.514596",
     "exception": false,
     "start_time": "2023-12-15T07:55:49.475515",
     "status": "completed"
    },
    "tags": []
   },
   "outputs": [],
   "source": [
    "def calculate_amino_acid_statistics(sequence):\n",
    "    valid_amino_acids = set(\"ACDEFGHIKLMNPQRSTVWY\")  # Allowed amino acids\n",
    "    \n",
    "    filtered_sequence = \"\".join(aa for aa in sequence if aa.upper() in valid_amino_acids)\n",
    "    \n",
    "    if not filtered_sequence:\n",
    "        return pd.Series([np.nan, np.nan, np.nan, np.nan], index=['MolecularWeight', 'Aromaticity', 'InstabilityIndex', 'IsoelectricPoint'])\n",
    "    \n",
    "    protein_analyzer = ProtParam.ProteinAnalysis(str(filtered_sequence))\n",
    "    \n",
    "    mol_weight = protein_analyzer.molecular_weight()\n",
    "    aromaticity = protein_analyzer.aromaticity()\n",
    "    instability_index = protein_analyzer.instability_index()\n",
    "    isoelectric_point = protein_analyzer.isoelectric_point()\n",
    "    \n",
    "    return pd.Series([mol_weight, aromaticity, instability_index, isoelectric_point], index=['MolecularWeight', 'Aromaticity', 'InstabilityIndex', 'IsoelectricPoint'])\n"
   ]
  },
  {
   "cell_type": "code",
   "execution_count": 33,
   "id": "5acfd39a",
   "metadata": {
    "execution": {
     "iopub.execute_input": "2023-12-15T07:55:49.571711Z",
     "iopub.status.busy": "2023-12-15T07:55:49.570836Z",
     "iopub.status.idle": "2023-12-15T08:03:46.797452Z",
     "shell.execute_reply": "2023-12-15T08:03:46.796500Z"
    },
    "papermill": {
     "duration": 477.258833,
     "end_time": "2023-12-15T08:03:46.800844",
     "exception": false,
     "start_time": "2023-12-15T07:55:49.542011",
     "status": "completed"
    },
    "tags": []
   },
   "outputs": [],
   "source": [
    "merged_data_sample[['MolecularWeight', 'Aromaticity', 'InstabilityIndex', 'IsoelectricPoint']] = merged_data_sample['Sequence'].apply(calculate_amino_acid_statistics)"
   ]
  },
  {
   "cell_type": "code",
   "execution_count": 34,
   "id": "d2042057",
   "metadata": {
    "execution": {
     "iopub.execute_input": "2023-12-15T08:03:46.869390Z",
     "iopub.status.busy": "2023-12-15T08:03:46.868927Z",
     "iopub.status.idle": "2023-12-15T08:03:47.189679Z",
     "shell.execute_reply": "2023-12-15T08:03:47.188743Z"
    },
    "papermill": {
     "duration": 0.353426,
     "end_time": "2023-12-15T08:03:47.192375",
     "exception": false,
     "start_time": "2023-12-15T08:03:46.838949",
     "status": "completed"
    },
    "tags": []
   },
   "outputs": [
    {
     "name": "stdout",
     "output_type": "stream",
     "text": [
      "<class 'pandas.core.frame.DataFrame'>\n",
      "Index: 536386 entries, 5259497 to 1167483\n",
      "Data columns (total 10 columns):\n",
      " #   Column            Non-Null Count   Dtype  \n",
      "---  ------            --------------   -----  \n",
      " 0   Protein_ID        536386 non-null  object \n",
      " 1   GO_Term_ID        536386 non-null  object \n",
      " 2   Ontology          536386 non-null  object \n",
      " 3   Taxon_ID          536386 non-null  object \n",
      " 4   Sequence          536386 non-null  object \n",
      " 5   Weight            536386 non-null  float64\n",
      " 6   MolecularWeight   536386 non-null  float64\n",
      " 7   Aromaticity       536386 non-null  float64\n",
      " 8   InstabilityIndex  536386 non-null  float64\n",
      " 9   IsoelectricPoint  536386 non-null  float64\n",
      "dtypes: float64(5), object(5)\n",
      "memory usage: 45.0+ MB\n"
     ]
    }
   ],
   "source": [
    "merged_data_sample.info()"
   ]
  },
  {
   "cell_type": "code",
   "execution_count": 35,
   "id": "6279cc93",
   "metadata": {
    "execution": {
     "iopub.execute_input": "2023-12-15T08:03:47.250278Z",
     "iopub.status.busy": "2023-12-15T08:03:47.249927Z",
     "iopub.status.idle": "2023-12-15T08:03:50.787578Z",
     "shell.execute_reply": "2023-12-15T08:03:50.786682Z"
    },
    "papermill": {
     "duration": 3.569256,
     "end_time": "2023-12-15T08:03:50.790348",
     "exception": false,
     "start_time": "2023-12-15T08:03:47.221092",
     "status": "completed"
    },
    "tags": []
   },
   "outputs": [
    {
     "data": {
      "image/png": "[encoded data removed]",
      "text/plain": [
       "<Figure size 1600x800 with 4 Axes>"
      ]
     },
     "metadata": {},
     "output_type": "display_data"
    },
    {
     "data": {
      "text/plain": [
       "'x'"
      ]
     },
     "execution_count": 35,
     "metadata": {},
     "output_type": "execute_result"
    }
   ],
   "source": [
    "plt.figure(figsize=(16, 8))\n",
    "\n",
    "plt.subplot(2, 2, 1)\n",
    "sns.histplot(merged_data_sample['MolecularWeight'], bins=50, color='skyblue')\n",
    "plt.title('Distribution of protein molecular weights')\n",
    "\n",
    "\n",
    "plt.subplot(2, 2, 2)\n",
    "sns.histplot(merged_data_sample['Aromaticity'], bins=50, color='salmon')\n",
    "plt.title('Distribution of protein aromaticity')\n",
    "\n",
    "\n",
    "plt.subplot(2, 2, 3)\n",
    "sns.histplot(merged_data_sample['InstabilityIndex'], bins=50, color='gray')\n",
    "plt.title('Distribution of the protein instability index')\n",
    "\n",
    "\n",
    "plt.subplot(2, 2, 4)\n",
    "sns.histplot(merged_data_sample['IsoelectricPoint'], bins=50, color = 'pink')\n",
    "plt.title('Distribution of protein isoelectric points')\n",
    "\n",
    "plt.subplots_adjust(hspace=0.5, wspace=0.3)\n",
    "\n",
    "plt.show()\n",
    "'x'"
   ]
  },
  {
   "cell_type": "markdown",
   "id": "d53fe593",
   "metadata": {
    "papermill": {
     "duration": 0.028065,
     "end_time": "2023-12-15T08:03:50.847118",
     "exception": false,
     "start_time": "2023-12-15T08:03:50.819053",
     "status": "completed"
    },
    "tags": []
   },
   "source": [
    "## Model training"
   ]
  },
  {
   "cell_type": "code",
   "execution_count": 36,
   "id": "73d87deb",
   "metadata": {
    "execution": {
     "iopub.execute_input": "2023-12-15T08:03:50.905168Z",
     "iopub.status.busy": "2023-12-15T08:03:50.904825Z",
     "iopub.status.idle": "2023-12-15T08:03:51.108790Z",
     "shell.execute_reply": "2023-12-15T08:03:51.107929Z"
    },
    "papermill": {
     "duration": 0.237135,
     "end_time": "2023-12-15T08:03:51.112191",
     "exception": false,
     "start_time": "2023-12-15T08:03:50.875056",
     "status": "completed"
    },
    "tags": []
   },
   "outputs": [],
   "source": [
    "# Dividing data into training and test sets\n",
    "\n",
    "train_data, test_data = train_test_split(merged_data_sample, test_size=0.2, random_state=42)"
   ]
  },
  {
   "cell_type": "code",
   "execution_count": 37,
   "id": "ef1d303e",
   "metadata": {
    "execution": {
     "iopub.execute_input": "2023-12-15T08:03:51.171980Z",
     "iopub.status.busy": "2023-12-15T08:03:51.171039Z",
     "iopub.status.idle": "2023-12-15T08:03:51.177671Z",
     "shell.execute_reply": "2023-12-15T08:03:51.176832Z"
    },
    "papermill": {
     "duration": 0.038142,
     "end_time": "2023-12-15T08:03:51.179494",
     "exception": false,
     "start_time": "2023-12-15T08:03:51.141352",
     "status": "completed"
    },
    "tags": []
   },
   "outputs": [
    {
     "data": {
      "text/plain": [
       "((429108, 10), (107278, 10))"
      ]
     },
     "execution_count": 37,
     "metadata": {},
     "output_type": "execute_result"
    }
   ],
   "source": [
    "train_data.shape, test_data.shape"
   ]
  },
  {
   "cell_type": "code",
   "execution_count": 38,
   "id": "42eefaf8",
   "metadata": {
    "execution": {
     "iopub.execute_input": "2023-12-15T08:03:51.238462Z",
     "iopub.status.busy": "2023-12-15T08:03:51.237505Z",
     "iopub.status.idle": "2023-12-15T08:06:49.217710Z",
     "shell.execute_reply": "2023-12-15T08:06:49.216672Z"
    },
    "papermill": {
     "duration": 178.012484,
     "end_time": "2023-12-15T08:06:49.220402",
     "exception": false,
     "start_time": "2023-12-15T08:03:51.207918",
     "status": "completed"
    },
    "tags": []
   },
   "outputs": [],
   "source": [
    "# Creating a vectorizer for amino acid sequences\n",
    "\n",
    "tokenizer = Tokenizer(char_level=True)\n",
    "tokenizer.fit_on_texts(train_data['Sequence'])\n",
    "X_train_sequence = tokenizer.texts_to_sequences(train_data['Sequence'])\n",
    "X_test_sequence = tokenizer.texts_to_sequences(test_data['Sequence'])"
   ]
  },
  {
   "cell_type": "code",
   "execution_count": 39,
   "id": "089f75da",
   "metadata": {
    "execution": {
     "iopub.execute_input": "2023-12-15T08:06:49.280820Z",
     "iopub.status.busy": "2023-12-15T08:06:49.280170Z",
     "iopub.status.idle": "2023-12-15T08:07:09.106534Z",
     "shell.execute_reply": "2023-12-15T08:07:09.105538Z"
    },
    "papermill": {
     "duration": 19.859273,
     "end_time": "2023-12-15T08:07:09.109110",
     "exception": false,
     "start_time": "2023-12-15T08:06:49.249837",
     "status": "completed"
    },
    "tags": []
   },
   "outputs": [],
   "source": [
    "# Padding sequences to the same length\n",
    "\n",
    "average_length = int(sum(map(len, X_train_sequence)) / len(X_train_sequence))\n",
    "max_sequence_length = average_length\n",
    "\n",
    "X_train_sequence = pad_sequences(X_train_sequence, maxlen=max_sequence_length)\n",
    "X_test_sequence = pad_sequences(X_test_sequence, maxlen=max_sequence_length)"
   ]
  },
  {
   "cell_type": "code",
   "execution_count": 40,
   "id": "fbf88152",
   "metadata": {
    "execution": {
     "iopub.execute_input": "2023-12-15T08:07:09.173115Z",
     "iopub.status.busy": "2023-12-15T08:07:09.172770Z",
     "iopub.status.idle": "2023-12-15T08:07:10.255810Z",
     "shell.execute_reply": "2023-12-15T08:07:10.254841Z"
    },
    "papermill": {
     "duration": 1.117392,
     "end_time": "2023-12-15T08:07:10.258345",
     "exception": false,
     "start_time": "2023-12-15T08:07:09.140953",
     "status": "completed"
    },
    "tags": []
   },
   "outputs": [],
   "source": [
    "# Create a vectorizer for the taxonomy\n",
    "\n",
    "mlb = MultiLabelBinarizer()\n",
    "y_train_taxonomy = mlb.fit_transform(train_data['Taxon_ID'])\n",
    "y_test_taxonomy = mlb.transform(test_data['Taxon_ID'])"
   ]
  },
  {
   "cell_type": "markdown",
   "id": "56450170",
   "metadata": {
    "papermill": {
     "duration": 0.028763,
     "end_time": "2023-12-15T08:07:10.315911",
     "exception": false,
     "start_time": "2023-12-15T08:07:10.287148",
     "status": "completed"
    },
    "tags": []
   },
   "source": [
    "The model requires additional tuning, I tried different options for the `output_dim`, `Dropout`, `LSTM` parameters, but the result was either worse or almost the same. Haven't tried adding activation functions for hidden layers of ReLU or its variations such as Leaky ReLU, ELU or SELU"
   ]
  },
  {
   "cell_type": "code",
   "execution_count": 41,
   "id": "0f0b91a3",
   "metadata": {
    "execution": {
     "iopub.execute_input": "2023-12-15T08:07:10.375801Z",
     "iopub.status.busy": "2023-12-15T08:07:10.375130Z",
     "iopub.status.idle": "2023-12-15T08:07:10.379444Z",
     "shell.execute_reply": "2023-12-15T08:07:10.378592Z"
    },
    "papermill": {
     "duration": 0.036347,
     "end_time": "2023-12-15T08:07:10.381389",
     "exception": false,
     "start_time": "2023-12-15T08:07:10.345042",
     "status": "completed"
    },
    "tags": []
   },
   "outputs": [],
   "source": [
    "# # Try this\n",
    "\n",
    "# model = Sequential()\n",
    "# model.add(Embedding(input_dim=len(tokenizer.word_index) + 1, output_dim=500, input_length=max_sequence_length))\n",
    "# model.add(Dropout(0.2))\n",
    "# model.add(LSTM(100, activation='relu')) # Changing the activation function ## bad idea\n",
    "# model.add(Dropout(0.2))\n",
    "# model.add(Dense(len(mlb.classes_), activation='sigmoid'))\n",
    "# model.compile(optimizer='adam', loss='binary_crossentropy', metrics=['accuracy'])"
   ]
  },
  {
   "cell_type": "code",
   "execution_count": 42,
   "id": "66303454",
   "metadata": {
    "execution": {
     "iopub.execute_input": "2023-12-15T08:07:10.442285Z",
     "iopub.status.busy": "2023-12-15T08:07:10.441940Z",
     "iopub.status.idle": "2023-12-15T09:43:53.589225Z",
     "shell.execute_reply": "2023-12-15T09:43:53.588175Z"
    },
    "papermill": {
     "duration": 5809.58048,
     "end_time": "2023-12-15T09:43:59.991981",
     "exception": false,
     "start_time": "2023-12-15T08:07:10.411501",
     "status": "completed"
    },
    "tags": []
   },
   "outputs": [
    {
     "name": "stdout",
     "output_type": "stream",
     "text": [
      "Epoch 1/13\n",
      "10728/10728 [==============================] - 453s 42ms/step - loss: 0.5244 - accuracy: 0.3959 - val_loss: 0.4865 - val_accuracy: 0.4278\n",
      "Epoch 2/13\n",
      "10728/10728 [==============================] - 446s 42ms/step - loss: 0.4677 - accuracy: 0.4788 - val_loss: 0.4523 - val_accuracy: 0.4748\n",
      "Epoch 3/13\n",
      "10728/10728 [==============================] - 447s 42ms/step - loss: 0.4426 - accuracy: 0.4943 - val_loss: 0.4284 - val_accuracy: 0.5482\n",
      "Epoch 4/13\n",
      "10728/10728 [==============================] - 447s 42ms/step - loss: 0.4273 - accuracy: 0.5011 - val_loss: 0.4205 - val_accuracy: 0.5215\n",
      "Epoch 5/13\n",
      "10728/10728 [==============================] - 445s 42ms/step - loss: 0.4173 - accuracy: 0.5082 - val_loss: 0.4086 - val_accuracy: 0.5160\n",
      "Epoch 6/13\n",
      "10728/10728 [==============================] - 445s 41ms/step - loss: 0.4103 - accuracy: 0.5124 - val_loss: 0.4031 - val_accuracy: 0.5390\n",
      "Epoch 7/13\n",
      "10728/10728 [==============================] - 445s 41ms/step - loss: 0.4038 - accuracy: 0.5158 - val_loss: 0.4087 - val_accuracy: 0.5456\n",
      "Epoch 8/13\n",
      "10728/10728 [==============================] - 446s 42ms/step - loss: 0.3999 - accuracy: 0.5189 - val_loss: 0.3978 - val_accuracy: 0.5331\n",
      "Epoch 9/13\n",
      "10728/10728 [==============================] - 446s 42ms/step - loss: 0.3969 - accuracy: 0.5214 - val_loss: 0.3915 - val_accuracy: 0.5432\n",
      "Epoch 10/13\n",
      "10728/10728 [==============================] - 445s 42ms/step - loss: 0.4002 - accuracy: 0.5162 - val_loss: 0.3933 - val_accuracy: 0.5405\n",
      "Epoch 11/13\n",
      "10728/10728 [==============================] - 445s 42ms/step - loss: 0.3935 - accuracy: 0.5223 - val_loss: 0.3904 - val_accuracy: 0.5496\n",
      "Epoch 12/13\n",
      "10728/10728 [==============================] - 445s 41ms/step - loss: 0.3947 - accuracy: 0.5205 - val_loss: 0.3906 - val_accuracy: 0.5238\n",
      "Epoch 13/13\n",
      "10728/10728 [==============================] - 444s 41ms/step - loss: 0.3927 - accuracy: 0.5245 - val_loss: 0.3931 - val_accuracy: 0.5172\n"
     ]
    },
    {
     "data": {
      "text/plain": [
       "<keras.src.callbacks.History at 0x7a1e00c72260>"
      ]
     },
     "execution_count": 42,
     "metadata": {},
     "output_type": "execute_result"
    }
   ],
   "source": [
    "model = Sequential()\n",
    "model.add(Embedding(input_dim=len(tokenizer.word_index) + 1, output_dim=500, input_length=max_sequence_length)) \n",
    "model.add(Dropout(0.2))\n",
    "model.add(LSTM(100)) \n",
    "model.add(Dropout(0.2))\n",
    "model.add(Dense(len(mlb.classes_), activation='sigmoid')) \n",
    "model.compile(optimizer='adam', loss='binary_crossentropy', metrics=['accuracy'])\n",
    "\n",
    "model.fit(X_train_sequence, y_train_taxonomy, epochs=13, batch_size=32, validation_split=0.2)"
   ]
  },
  {
   "cell_type": "code",
   "execution_count": 43,
   "id": "d469b55a",
   "metadata": {
    "execution": {
     "iopub.execute_input": "2023-12-15T09:44:12.142708Z",
     "iopub.status.busy": "2023-12-15T09:44:12.142328Z",
     "iopub.status.idle": "2023-12-15T09:45:09.164842Z",
     "shell.execute_reply": "2023-12-15T09:45:09.163845Z"
    },
    "papermill": {
     "duration": 63.063914,
     "end_time": "2023-12-15T09:45:09.167091",
     "exception": false,
     "start_time": "2023-12-15T09:44:06.103177",
     "status": "completed"
    },
    "tags": []
   },
   "outputs": [
    {
     "name": "stdout",
     "output_type": "stream",
     "text": [
      "3353/3353 [==============================] - 54s 16ms/step\n",
      "Test Accuracy: 0.2266913999142415, Test F1: 0.6672879978310035, Test Precision: 0.7369456117451213, Test Recall: 0.6364308884615949\n"
     ]
    }
   ],
   "source": [
    "# Model evaluation on test set\n",
    "\n",
    "y_pred = model.predict(X_test_sequence)\n",
    "\n",
    "y_pred_binary = (y_pred > 0.5).astype(int)\n",
    "\n",
    "accuracy = accuracy_score(y_test_taxonomy, y_pred_binary)\n",
    "f1 = f1_score(y_test_taxonomy, y_pred_binary, average='weighted')\n",
    "precision = precision_score(y_test_taxonomy, y_pred_binary, average='weighted')\n",
    "recall = recall_score(y_test_taxonomy, y_pred_binary, average='weighted')\n",
    "\n",
    "print(f'Test Accuracy: {accuracy}, Test F1: {f1}, Test Precision: {precision}, Test Recall: {recall}')"
   ]
  },
  {
   "cell_type": "code",
   "execution_count": 44,
   "id": "c0b8f9f8",
   "metadata": {
    "execution": {
     "iopub.execute_input": "2023-12-15T09:45:21.149209Z",
     "iopub.status.busy": "2023-12-15T09:45:21.148324Z",
     "iopub.status.idle": "2023-12-15T09:45:21.208221Z",
     "shell.execute_reply": "2023-12-15T09:45:21.207285Z"
    },
    "papermill": {
     "duration": 6.01149,
     "end_time": "2023-12-15T09:45:21.210453",
     "exception": false,
     "start_time": "2023-12-15T09:45:15.198963",
     "status": "completed"
    },
    "tags": []
   },
   "outputs": [],
   "source": [
    "model.save('/kaggle/working/model_PFP.keras')"
   ]
  },
  {
   "cell_type": "markdown",
   "id": "a737e539",
   "metadata": {
    "papermill": {
     "duration": 5.918781,
     "end_time": "2023-12-15T09:45:33.323582",
     "exception": false,
     "start_time": "2023-12-15T09:45:27.404801",
     "status": "completed"
    },
    "tags": []
   },
   "source": [
    "## Prediction on a test superset"
   ]
  },
  {
   "cell_type": "code",
   "execution_count": 45,
   "id": "1c3abeb4",
   "metadata": {
    "execution": {
     "iopub.execute_input": "2023-12-15T09:45:45.321529Z",
     "iopub.status.busy": "2023-12-15T09:45:45.320366Z",
     "iopub.status.idle": "2023-12-15T09:45:45.326305Z",
     "shell.execute_reply": "2023-12-15T09:45:45.325523Z"
    },
    "papermill": {
     "duration": 6.038121,
     "end_time": "2023-12-15T09:45:45.328245",
     "exception": false,
     "start_time": "2023-12-15T09:45:39.290124",
     "status": "completed"
    },
    "tags": []
   },
   "outputs": [],
   "source": [
    "# Download test protein sequences\n",
    "\n",
    "# test_sequences = [str(record.seq) for record in SeqIO.parse('/kaggle/input/cafa-5-protein-function-prediction/Test (Targets)/testsuperset.fasta', 'fasta')]"
   ]
  },
  {
   "cell_type": "code",
   "execution_count": 46,
   "id": "03e2a3a5",
   "metadata": {
    "execution": {
     "iopub.execute_input": "2023-12-15T09:45:57.371328Z",
     "iopub.status.busy": "2023-12-15T09:45:57.370976Z",
     "iopub.status.idle": "2023-12-15T09:45:57.400642Z",
     "shell.execute_reply": "2023-12-15T09:45:57.399659Z"
    },
    "papermill": {
     "duration": 6.02938,
     "end_time": "2023-12-15T09:45:57.403001",
     "exception": false,
     "start_time": "2023-12-15T09:45:51.373621",
     "status": "completed"
    },
    "tags": []
   },
   "outputs": [],
   "source": [
    "# Create a DataFrame with protein sequences\n",
    "\n",
    "test_data = pd.DataFrame({'Sequence': test_sequences})"
   ]
  },
  {
   "cell_type": "code",
   "execution_count": 47,
   "id": "914835c9",
   "metadata": {
    "execution": {
     "iopub.execute_input": "2023-12-15T09:46:09.221544Z",
     "iopub.status.busy": "2023-12-15T09:46:09.221161Z",
     "iopub.status.idle": "2023-12-15T09:46:09.246150Z",
     "shell.execute_reply": "2023-12-15T09:46:09.245378Z"
    },
    "papermill": {
     "duration": 5.889529,
     "end_time": "2023-12-15T09:46:09.248121",
     "exception": false,
     "start_time": "2023-12-15T09:46:03.358592",
     "status": "completed"
    },
    "tags": []
   },
   "outputs": [],
   "source": [
    "average_length_test = int(sum(map(len, X_test_sequence)) / len(X_test_sequence))\n",
    "\n",
    "max_sequence_length = average_length_test"
   ]
  },
  {
   "cell_type": "code",
   "execution_count": 48,
   "id": "473f5e91",
   "metadata": {
    "execution": {
     "iopub.execute_input": "2023-12-15T09:46:21.159786Z",
     "iopub.status.busy": "2023-12-15T09:46:21.159403Z",
     "iopub.status.idle": "2023-12-15T09:46:21.553920Z",
     "shell.execute_reply": "2023-12-15T09:46:21.553124Z"
    },
    "papermill": {
     "duration": 6.276044,
     "end_time": "2023-12-15T09:46:21.556141",
     "exception": false,
     "start_time": "2023-12-15T09:46:15.280097",
     "status": "completed"
    },
    "tags": []
   },
   "outputs": [],
   "source": [
    "X_test_sequence = pad_sequences(X_test_sequence, maxlen=max_sequence_length)"
   ]
  },
  {
   "cell_type": "code",
   "execution_count": 49,
   "id": "e0704318",
   "metadata": {
    "execution": {
     "iopub.execute_input": "2023-12-15T09:46:33.500906Z",
     "iopub.status.busy": "2023-12-15T09:46:33.500544Z",
     "iopub.status.idle": "2023-12-15T09:46:33.504847Z",
     "shell.execute_reply": "2023-12-15T09:46:33.503915Z"
    },
    "papermill": {
     "duration": 5.954831,
     "end_time": "2023-12-15T09:46:33.506928",
     "exception": false,
     "start_time": "2023-12-15T09:46:27.552097",
     "status": "completed"
    },
    "tags": []
   },
   "outputs": [],
   "source": [
    "# Load taxonomy for test superset\n",
    "\n",
    "# test_taxonomy = pd.read_csv('/kaggle/input/cafa-5-protein-function-prediction/Test (Targets)/testsuperset-taxon-list.tsv', sep='\\t', encoding='ISO-8859-1')"
   ]
  },
  {
   "cell_type": "code",
   "execution_count": 50,
   "id": "cf7729cf",
   "metadata": {
    "execution": {
     "iopub.execute_input": "2023-12-15T09:46:45.460923Z",
     "iopub.status.busy": "2023-12-15T09:46:45.460549Z",
     "iopub.status.idle": "2023-12-15T09:46:45.656634Z",
     "shell.execute_reply": "2023-12-15T09:46:45.655775Z"
    },
    "papermill": {
     "duration": 6.304306,
     "end_time": "2023-12-15T09:46:45.658960",
     "exception": false,
     "start_time": "2023-12-15T09:46:39.354654",
     "status": "completed"
    },
    "tags": []
   },
   "outputs": [],
   "source": [
    "sample_submission = pd.read_csv('/kaggle/input/cafa-5-protein-function-prediction/sample_submission.tsv', sep='\\t')"
   ]
  },
  {
   "cell_type": "code",
   "execution_count": 51,
   "id": "3a4d11eb",
   "metadata": {
    "execution": {
     "iopub.execute_input": "2023-12-15T09:46:57.693849Z",
     "iopub.status.busy": "2023-12-15T09:46:57.693445Z",
     "iopub.status.idle": "2023-12-15T09:46:57.697447Z",
     "shell.execute_reply": "2023-12-15T09:46:57.696612Z"
    },
    "papermill": {
     "duration": 5.970249,
     "end_time": "2023-12-15T09:46:57.699300",
     "exception": false,
     "start_time": "2023-12-15T09:46:51.729051",
     "status": "completed"
    },
    "tags": []
   },
   "outputs": [],
   "source": [
    "# sample_submission"
   ]
  },
  {
   "cell_type": "code",
   "execution_count": 52,
   "id": "56005f94",
   "metadata": {
    "execution": {
     "iopub.execute_input": "2023-12-15T09:47:09.553177Z",
     "iopub.status.busy": "2023-12-15T09:47:09.552803Z",
     "iopub.status.idle": "2023-12-15T09:47:09.556937Z",
     "shell.execute_reply": "2023-12-15T09:47:09.556021Z"
    },
    "papermill": {
     "duration": 5.913661,
     "end_time": "2023-12-15T09:47:09.559112",
     "exception": false,
     "start_time": "2023-12-15T09:47:03.645451",
     "status": "completed"
    },
    "tags": []
   },
   "outputs": [],
   "source": [
    "# # Prediction\n",
    "\n",
    "# predictions = model.predict(X_test_sequence)"
   ]
  },
  {
   "cell_type": "code",
   "execution_count": 53,
   "id": "00fe633c",
   "metadata": {
    "execution": {
     "iopub.execute_input": "2023-12-15T09:47:21.494639Z",
     "iopub.status.busy": "2023-12-15T09:47:21.494258Z",
     "iopub.status.idle": "2023-12-15T09:47:21.498388Z",
     "shell.execute_reply": "2023-12-15T09:47:21.497524Z"
    },
    "papermill": {
     "duration": 6.020436,
     "end_time": "2023-12-15T09:47:21.500259",
     "exception": false,
     "start_time": "2023-12-15T09:47:15.479823",
     "status": "completed"
    },
    "tags": []
   },
   "outputs": [],
   "source": [
    "# predictions.shape"
   ]
  },
  {
   "cell_type": "code",
   "execution_count": 54,
   "id": "dceaa6cf",
   "metadata": {
    "execution": {
     "iopub.execute_input": "2023-12-15T09:47:33.485496Z",
     "iopub.status.busy": "2023-12-15T09:47:33.484225Z",
     "iopub.status.idle": "2023-12-15T09:47:33.488923Z",
     "shell.execute_reply": "2023-12-15T09:47:33.488161Z"
    },
    "papermill": {
     "duration": 5.860591,
     "end_time": "2023-12-15T09:47:33.490811",
     "exception": false,
     "start_time": "2023-12-15T09:47:27.630220",
     "status": "completed"
    },
    "tags": []
   },
   "outputs": [],
   "source": [
    "# test_taxonomy"
   ]
  },
  {
   "cell_type": "code",
   "execution_count": 55,
   "id": "470f9e46",
   "metadata": {
    "execution": {
     "iopub.execute_input": "2023-12-15T09:47:45.322960Z",
     "iopub.status.busy": "2023-12-15T09:47:45.322112Z",
     "iopub.status.idle": "2023-12-15T09:47:45.326888Z",
     "shell.execute_reply": "2023-12-15T09:47:45.326010Z"
    },
    "papermill": {
     "duration": 5.888141,
     "end_time": "2023-12-15T09:47:45.328815",
     "exception": false,
     "start_time": "2023-12-15T09:47:39.440674",
     "status": "completed"
    },
    "tags": []
   },
   "outputs": [],
   "source": [
    "from itertools import product\n",
    "import numpy as np"
   ]
  },
  {
   "cell_type": "code",
   "execution_count": 56,
   "id": "dc97d863",
   "metadata": {
    "execution": {
     "iopub.execute_input": "2023-12-15T09:47:57.252324Z",
     "iopub.status.busy": "2023-12-15T09:47:57.251996Z",
     "iopub.status.idle": "2023-12-15T09:48:11.039459Z",
     "shell.execute_reply": "2023-12-15T09:48:11.038544Z"
    },
    "papermill": {
     "duration": 19.618004,
     "end_time": "2023-12-15T09:48:11.041789",
     "exception": false,
     "start_time": "2023-12-15T09:47:51.423785",
     "status": "completed"
    },
    "tags": []
   },
   "outputs": [
    {
     "name": "stdout",
     "output_type": "stream",
     "text": [
      "(141865, 1024)\n"
     ]
    }
   ],
   "source": [
    "test_embeddings = np.load('/kaggle/input/t5embeds/test_embeds.npy')\n",
    "\n",
    "# Convert test_embeddings to dataframe\n",
    "column_num = test_embeddings.shape[1]\n",
    "test_df = pd.DataFrame(test_embeddings, columns = [\"Column_\" + str(i) for i in range(1, column_num+1)])\n",
    "print(test_df.shape)\n"
   ]
  },
  {
   "cell_type": "code",
   "execution_count": 57,
   "id": "99fea954",
   "metadata": {
    "execution": {
     "iopub.execute_input": "2023-12-15T09:48:22.947578Z",
     "iopub.status.busy": "2023-12-15T09:48:22.946855Z",
     "iopub.status.idle": "2023-12-15T09:49:38.243283Z",
     "shell.execute_reply": "2023-12-15T09:49:38.242435Z"
    },
    "papermill": {
     "duration": 81.233385,
     "end_time": "2023-12-15T09:49:38.245713",
     "exception": false,
     "start_time": "2023-12-15T09:48:17.012328",
     "status": "completed"
    },
    "tags": []
   },
   "outputs": [
    {
     "name": "stdout",
     "output_type": "stream",
     "text": [
      "4434/4434 [==============================] - 71s 16ms/step\n"
     ]
    }
   ],
   "source": [
    "selected_columns = test_df.columns[:636]\n",
    "test_df_subset = test_df[selected_columns]\n",
    "\n",
    "predictions = model.predict(test_df_subset)"
   ]
  },
  {
   "cell_type": "code",
   "execution_count": 58,
   "id": "12a933ed",
   "metadata": {
    "execution": {
     "iopub.execute_input": "2023-12-15T09:49:50.403917Z",
     "iopub.status.busy": "2023-12-15T09:49:50.403579Z",
     "iopub.status.idle": "2023-12-15T09:49:51.228160Z",
     "shell.execute_reply": "2023-12-15T09:49:51.227361Z"
    },
    "papermill": {
     "duration": 6.915556,
     "end_time": "2023-12-15T09:49:51.230200",
     "exception": false,
     "start_time": "2023-12-15T09:49:44.314644",
     "status": "completed"
    },
    "tags": []
   },
   "outputs": [],
   "source": [
    "# Set the limit for label\n",
    "num_of_labels = 1500\n",
    "\n",
    "# Take value counts in descending order and fetch first 1500 `GO term ID` as labels\n",
    "labels = terms_data['GO_Term_ID'].value_counts().index[:num_of_labels].tolist()"
   ]
  },
  {
   "cell_type": "code",
   "execution_count": 59,
   "id": "2e5c74a7",
   "metadata": {
    "execution": {
     "iopub.execute_input": "2023-12-15T09:50:03.318137Z",
     "iopub.status.busy": "2023-12-15T09:50:03.317758Z",
     "iopub.status.idle": "2023-12-15T09:50:03.323267Z",
     "shell.execute_reply": "2023-12-15T09:50:03.322356Z"
    },
    "papermill": {
     "duration": 6.083677,
     "end_time": "2023-12-15T09:50:03.325137",
     "exception": false,
     "start_time": "2023-12-15T09:49:57.241460",
     "status": "completed"
    },
    "tags": []
   },
   "outputs": [],
   "source": [
    "if len(labels) > predictions.shape[1]:\n",
    "    labels = labels[:predictions.shape[1]]\n",
    "elif len(labels) < predictions.shape[1]:\n",
    "    additional_labels = list(set(predictions.columns) - set(labels))\n",
    "    labels.extend(additional_labels)\n"
   ]
  },
  {
   "cell_type": "code",
   "execution_count": 60,
   "id": "61ade947",
   "metadata": {
    "execution": {
     "iopub.execute_input": "2023-12-15T09:50:15.436322Z",
     "iopub.status.busy": "2023-12-15T09:50:15.435969Z",
     "iopub.status.idle": "2023-12-15T09:50:22.690292Z",
     "shell.execute_reply": "2023-12-15T09:50:22.689524Z"
    },
    "papermill": {
     "duration": 13.33265,
     "end_time": "2023-12-15T09:50:22.692668",
     "exception": false,
     "start_time": "2023-12-15T09:50:09.360018",
     "status": "completed"
    },
    "tags": []
   },
   "outputs": [],
   "source": [
    "# Reference: https://www.kaggle.com/code/alexandervc/baseline-multilabel-to-multitarget-binary\n",
    "\n",
    "df_submission = pd.DataFrame(columns=['Protein Id', 'GO Term Id', 'Prediction'])\n",
    "test_protein_ids = np.load('/kaggle/input/t5embeds/test_ids.npy')\n",
    "\n",
    "data = []\n",
    "\n",
    "for i, protein_id in enumerate(test_protein_ids):\n",
    "    for j, go_term_id in enumerate(labels):\n",
    "        prediction_value = predictions[i, j]\n",
    "        data.append({\n",
    "            'Protein Id': protein_id,\n",
    "            'GO Term Id': go_term_id,\n",
    "            'Prediction': prediction_value\n",
    "        })\n",
    "\n",
    "df_submission = pd.DataFrame(data, columns=['Protein Id', 'GO Term Id', 'Prediction'])\n",
    "df_submission.to_csv(\"submission.tsv\", header=False, index=False, sep=\"\\t\")"
   ]
  },
  {
   "cell_type": "code",
   "execution_count": 61,
   "id": "9032d0f0",
   "metadata": {
    "execution": {
     "iopub.execute_input": "2023-12-15T09:50:34.872921Z",
     "iopub.status.busy": "2023-12-15T09:50:34.872200Z",
     "iopub.status.idle": "2023-12-15T09:50:34.884432Z",
     "shell.execute_reply": "2023-12-15T09:50:34.883542Z"
    },
    "papermill": {
     "duration": 6.142831,
     "end_time": "2023-12-15T09:50:34.886769",
     "exception": false,
     "start_time": "2023-12-15T09:50:28.743938",
     "status": "completed"
    },
    "tags": []
   },
   "outputs": [
    {
     "data": {
      "text/html": [
       "<div>\n",
       "<style scoped>\n",
       "    .dataframe tbody tr th:only-of-type {\n",
       "        vertical-align: middle;\n",
       "    }\n",
       "\n",
       "    .dataframe tbody tr th {\n",
       "        vertical-align: top;\n",
       "    }\n",
       "\n",
       "    .dataframe thead th {\n",
       "        text-align: right;\n",
       "    }\n",
       "</style>\n",
       "<table border=\"1\" class=\"dataframe\">\n",
       "  <thead>\n",
       "    <tr style=\"text-align: right;\">\n",
       "      <th></th>\n",
       "      <th>Protein Id</th>\n",
       "      <th>GO Term Id</th>\n",
       "      <th>Prediction</th>\n",
       "    </tr>\n",
       "  </thead>\n",
       "  <tbody>\n",
       "    <tr>\n",
       "      <th>0</th>\n",
       "      <td>Q9CQV8</td>\n",
       "      <td>GO:0005575</td>\n",
       "      <td>0.160532</td>\n",
       "    </tr>\n",
       "    <tr>\n",
       "      <th>1</th>\n",
       "      <td>Q9CQV8</td>\n",
       "      <td>GO:0008150</td>\n",
       "      <td>0.778950</td>\n",
       "    </tr>\n",
       "    <tr>\n",
       "      <th>2</th>\n",
       "      <td>Q9CQV8</td>\n",
       "      <td>GO:0110165</td>\n",
       "      <td>0.083364</td>\n",
       "    </tr>\n",
       "    <tr>\n",
       "      <th>3</th>\n",
       "      <td>Q9CQV8</td>\n",
       "      <td>GO:0003674</td>\n",
       "      <td>0.903193</td>\n",
       "    </tr>\n",
       "    <tr>\n",
       "      <th>4</th>\n",
       "      <td>Q9CQV8</td>\n",
       "      <td>GO:0005622</td>\n",
       "      <td>0.665724</td>\n",
       "    </tr>\n",
       "    <tr>\n",
       "      <th>...</th>\n",
       "      <td>...</td>\n",
       "      <td>...</td>\n",
       "      <td>...</td>\n",
       "    </tr>\n",
       "    <tr>\n",
       "      <th>1418645</th>\n",
       "      <td>A0A3G2FQK2</td>\n",
       "      <td>GO:0009987</td>\n",
       "      <td>0.491094</td>\n",
       "    </tr>\n",
       "    <tr>\n",
       "      <th>1418646</th>\n",
       "      <td>A0A3G2FQK2</td>\n",
       "      <td>GO:0043226</td>\n",
       "      <td>0.991221</td>\n",
       "    </tr>\n",
       "    <tr>\n",
       "      <th>1418647</th>\n",
       "      <td>A0A3G2FQK2</td>\n",
       "      <td>GO:0043229</td>\n",
       "      <td>0.039545</td>\n",
       "    </tr>\n",
       "    <tr>\n",
       "      <th>1418648</th>\n",
       "      <td>A0A3G2FQK2</td>\n",
       "      <td>GO:0005488</td>\n",
       "      <td>0.965599</td>\n",
       "    </tr>\n",
       "    <tr>\n",
       "      <th>1418649</th>\n",
       "      <td>A0A3G2FQK2</td>\n",
       "      <td>GO:0043227</td>\n",
       "      <td>0.971892</td>\n",
       "    </tr>\n",
       "  </tbody>\n",
       "</table>\n",
       "<p>1418650 rows × 3 columns</p>\n",
       "</div>"
      ],
      "text/plain": [
       "         Protein Id  GO Term Id  Prediction\n",
       "0            Q9CQV8  GO:0005575    0.160532\n",
       "1            Q9CQV8  GO:0008150    0.778950\n",
       "2            Q9CQV8  GO:0110165    0.083364\n",
       "3            Q9CQV8  GO:0003674    0.903193\n",
       "4            Q9CQV8  GO:0005622    0.665724\n",
       "...             ...         ...         ...\n",
       "1418645  A0A3G2FQK2  GO:0009987    0.491094\n",
       "1418646  A0A3G2FQK2  GO:0043226    0.991221\n",
       "1418647  A0A3G2FQK2  GO:0043229    0.039545\n",
       "1418648  A0A3G2FQK2  GO:0005488    0.965599\n",
       "1418649  A0A3G2FQK2  GO:0043227    0.971892\n",
       "\n",
       "[1418650 rows x 3 columns]"
      ]
     },
     "execution_count": 61,
     "metadata": {},
     "output_type": "execute_result"
    }
   ],
   "source": [
    "df_submission"
   ]
  }
 ],
 "metadata": {
  "kaggle": {
   "accelerator": "gpu",
   "dataSources": [
    {
     "databundleVersionId": 5521661,
     "sourceId": 41875,
     "sourceType": "competition"
    },
    {
     "datasetId": 3167603,
     "sourceId": 5499219,
     "sourceType": "datasetVersion"
    },
    {
     "datasetId": 4147529,
     "sourceId": 7176893,
     "sourceType": "datasetVersion"
    }
   ],
   "dockerImageVersionId": 30615,
   "isGpuEnabled": true,
   "isInternetEnabled": true,
   "language": "python",
   "sourceType": "notebook"
  },
  "kernelspec": {
   "display_name": "Python 3",
   "language": "python",
   "name": "python3"
  },
  "language_info": {
   "codemirror_mode": {
    "name": "ipython",
    "version": 3
   },
   "file_extension": ".py",
   "mimetype": "text/x-python",
   "name": "python",
   "nbconvert_exporter": "python",
   "pygments_lexer": "ipython3",
   "version": "3.10.12"
  },
  "papermill": {
   "default_parameters": {},
   "duration": 6986.546627,
   "end_time": "2023-12-15T09:50:44.694215",
   "environment_variables": {},
   "exception": null,
   "input_path": "__notebook__.ipynb",
   "output_path": "__notebook__.ipynb",
   "parameters": {},
   "start_time": "2023-12-15T07:54:18.147588",
   "version": "2.4.0"
  }
 },
 "nbformat": 4,
 "nbformat_minor": 5
}
